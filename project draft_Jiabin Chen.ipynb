{
 "cells": [
  {
   "cell_type": "code",
   "execution_count": 3,
   "metadata": {},
   "outputs": [],
   "source": [
    "# Used Library"
   ]
  },
  {
   "cell_type": "code",
   "execution_count": 4,
   "metadata": {},
   "outputs": [],
   "source": [
    "import pandas as pd"
   ]
  },
  {
   "cell_type": "code",
   "execution_count": 10,
   "metadata": {},
   "outputs": [],
   "source": [
    "import matplotlib.pyplot as plt"
   ]
  },
  {
   "cell_type": "markdown",
   "metadata": {},
   "source": [
    "## Mean rating for each category"
   ]
  },
  {
   "cell_type": "code",
   "execution_count": 5,
   "metadata": {},
   "outputs": [],
   "source": [
    "reviews = pd.read_csv(\"pitts_review.csv\") "
   ]
  },
  {
   "cell_type": "code",
   "execution_count": 6,
   "metadata": {},
   "outputs": [],
   "source": [
    "reviews = reviews.drop(reviews.columns[0], axis=1)"
   ]
  },
  {
   "cell_type": "code",
   "execution_count": 7,
   "metadata": {},
   "outputs": [
    {
     "data": {
      "text/html": [
       "<div>\n",
       "<style scoped>\n",
       "    .dataframe tbody tr th:only-of-type {\n",
       "        vertical-align: middle;\n",
       "    }\n",
       "\n",
       "    .dataframe tbody tr th {\n",
       "        vertical-align: top;\n",
       "    }\n",
       "\n",
       "    .dataframe thead th {\n",
       "        text-align: right;\n",
       "    }\n",
       "</style>\n",
       "<table border=\"1\" class=\"dataframe\">\n",
       "  <thead>\n",
       "    <tr style=\"text-align: right;\">\n",
       "      <th></th>\n",
       "      <th>rating</th>\n",
       "      <th>restId</th>\n",
       "      <th>text</th>\n",
       "      <th>type</th>\n",
       "    </tr>\n",
       "  </thead>\n",
       "  <tbody>\n",
       "    <tr>\n",
       "      <td>0</td>\n",
       "      <td>5.0</td>\n",
       "      <td>JJi7c7uiTzCqeWNTsldgXQ</td>\n",
       "      <td>It's been far too long since I've come here. T...</td>\n",
       "      <td>chinese</td>\n",
       "    </tr>\n",
       "    <tr>\n",
       "      <td>1</td>\n",
       "      <td>5.0</td>\n",
       "      <td>JJi7c7uiTzCqeWNTsldgXQ</td>\n",
       "      <td>My husband and I decided to give this place a ...</td>\n",
       "      <td>chinese</td>\n",
       "    </tr>\n",
       "    <tr>\n",
       "      <td>2</td>\n",
       "      <td>5.0</td>\n",
       "      <td>JJi7c7uiTzCqeWNTsldgXQ</td>\n",
       "      <td>This is good place to have Chinese food in thi...</td>\n",
       "      <td>chinese</td>\n",
       "    </tr>\n",
       "    <tr>\n",
       "      <td>3</td>\n",
       "      <td>4.0</td>\n",
       "      <td>JJi7c7uiTzCqeWNTsldgXQ</td>\n",
       "      <td>Oh, maybe I ordered wrong. Or this was the mos...</td>\n",
       "      <td>chinese</td>\n",
       "    </tr>\n",
       "    <tr>\n",
       "      <td>4</td>\n",
       "      <td>5.0</td>\n",
       "      <td>JJi7c7uiTzCqeWNTsldgXQ</td>\n",
       "      <td>We are new to the area and got some take out f...</td>\n",
       "      <td>chinese</td>\n",
       "    </tr>\n",
       "    <tr>\n",
       "      <td>...</td>\n",
       "      <td>...</td>\n",
       "      <td>...</td>\n",
       "      <td>...</td>\n",
       "      <td>...</td>\n",
       "    </tr>\n",
       "    <tr>\n",
       "      <td>1547</td>\n",
       "      <td>3.0</td>\n",
       "      <td>z4EIzLJlGd7gyje1Q_hKtw</td>\n",
       "      <td>Smallman Galley is one of my favorite places i...</td>\n",
       "      <td>newamerican</td>\n",
       "    </tr>\n",
       "    <tr>\n",
       "      <td>1548</td>\n",
       "      <td>5.0</td>\n",
       "      <td>z4EIzLJlGd7gyje1Q_hKtw</td>\n",
       "      <td>My husband and I love federal galley. This is ...</td>\n",
       "      <td>newamerican</td>\n",
       "    </tr>\n",
       "    <tr>\n",
       "      <td>1549</td>\n",
       "      <td>5.0</td>\n",
       "      <td>z4EIzLJlGd7gyje1Q_hKtw</td>\n",
       "      <td>Great lunch visit for all to this bustling foo...</td>\n",
       "      <td>newamerican</td>\n",
       "    </tr>\n",
       "    <tr>\n",
       "      <td>1550</td>\n",
       "      <td>5.0</td>\n",
       "      <td>iTonKZOZWC42LlQB77JpkA</td>\n",
       "      <td>This is a great LITTLE bar/restaurant!\\n\\nIt i...</td>\n",
       "      <td>newamerican</td>\n",
       "    </tr>\n",
       "    <tr>\n",
       "      <td>1551</td>\n",
       "      <td>4.0</td>\n",
       "      <td>iTonKZOZWC42LlQB77JpkA</td>\n",
       "      <td>I was super hesitant when the front desk girl ...</td>\n",
       "      <td>newamerican</td>\n",
       "    </tr>\n",
       "  </tbody>\n",
       "</table>\n",
       "<p>1552 rows × 4 columns</p>\n",
       "</div>"
      ],
      "text/plain": [
       "      rating                  restId  \\\n",
       "0        5.0  JJi7c7uiTzCqeWNTsldgXQ   \n",
       "1        5.0  JJi7c7uiTzCqeWNTsldgXQ   \n",
       "2        5.0  JJi7c7uiTzCqeWNTsldgXQ   \n",
       "3        4.0  JJi7c7uiTzCqeWNTsldgXQ   \n",
       "4        5.0  JJi7c7uiTzCqeWNTsldgXQ   \n",
       "...      ...                     ...   \n",
       "1547     3.0  z4EIzLJlGd7gyje1Q_hKtw   \n",
       "1548     5.0  z4EIzLJlGd7gyje1Q_hKtw   \n",
       "1549     5.0  z4EIzLJlGd7gyje1Q_hKtw   \n",
       "1550     5.0  iTonKZOZWC42LlQB77JpkA   \n",
       "1551     4.0  iTonKZOZWC42LlQB77JpkA   \n",
       "\n",
       "                                                   text         type  \n",
       "0     It's been far too long since I've come here. T...      chinese  \n",
       "1     My husband and I decided to give this place a ...      chinese  \n",
       "2     This is good place to have Chinese food in thi...      chinese  \n",
       "3     Oh, maybe I ordered wrong. Or this was the mos...      chinese  \n",
       "4     We are new to the area and got some take out f...      chinese  \n",
       "...                                                 ...          ...  \n",
       "1547  Smallman Galley is one of my favorite places i...  newamerican  \n",
       "1548  My husband and I love federal galley. This is ...  newamerican  \n",
       "1549  Great lunch visit for all to this bustling foo...  newamerican  \n",
       "1550  This is a great LITTLE bar/restaurant!\\n\\nIt i...  newamerican  \n",
       "1551  I was super hesitant when the front desk girl ...  newamerican  \n",
       "\n",
       "[1552 rows x 4 columns]"
      ]
     },
     "execution_count": 7,
     "metadata": {},
     "output_type": "execute_result"
    }
   ],
   "source": [
    "reviews"
   ]
  },
  {
   "cell_type": "code",
   "execution_count": 8,
   "metadata": {},
   "outputs": [
    {
     "data": {
      "text/html": [
       "<div>\n",
       "<style scoped>\n",
       "    .dataframe tbody tr th:only-of-type {\n",
       "        vertical-align: middle;\n",
       "    }\n",
       "\n",
       "    .dataframe tbody tr th {\n",
       "        vertical-align: top;\n",
       "    }\n",
       "\n",
       "    .dataframe thead th {\n",
       "        text-align: right;\n",
       "    }\n",
       "</style>\n",
       "<table border=\"1\" class=\"dataframe\">\n",
       "  <thead>\n",
       "    <tr style=\"text-align: right;\">\n",
       "      <th></th>\n",
       "      <th>rating</th>\n",
       "    </tr>\n",
       "    <tr>\n",
       "      <th>type</th>\n",
       "      <th></th>\n",
       "    </tr>\n",
       "  </thead>\n",
       "  <tbody>\n",
       "    <tr>\n",
       "      <td>chinese</td>\n",
       "      <td>3.433846</td>\n",
       "    </tr>\n",
       "    <tr>\n",
       "      <td>italian</td>\n",
       "      <td>3.753351</td>\n",
       "    </tr>\n",
       "    <tr>\n",
       "      <td>japanese</td>\n",
       "      <td>3.812500</td>\n",
       "    </tr>\n",
       "    <tr>\n",
       "      <td>korean</td>\n",
       "      <td>4.114286</td>\n",
       "    </tr>\n",
       "    <tr>\n",
       "      <td>mexican</td>\n",
       "      <td>3.429630</td>\n",
       "    </tr>\n",
       "    <tr>\n",
       "      <td>newamerican</td>\n",
       "      <td>3.848614</td>\n",
       "    </tr>\n",
       "  </tbody>\n",
       "</table>\n",
       "</div>"
      ],
      "text/plain": [
       "               rating\n",
       "type                 \n",
       "chinese      3.433846\n",
       "italian      3.753351\n",
       "japanese     3.812500\n",
       "korean       4.114286\n",
       "mexican      3.429630\n",
       "newamerican  3.848614"
      ]
     },
     "execution_count": 8,
     "metadata": {},
     "output_type": "execute_result"
    }
   ],
   "source": [
    "reviews.groupby(\"type\").mean()"
   ]
  },
  {
   "cell_type": "code",
   "execution_count": 14,
   "metadata": {},
   "outputs": [
    {
     "data": {
      "text/plain": [
       "<BarContainer object of 6 artists>"
      ]
     },
     "execution_count": 14,
     "metadata": {},
     "output_type": "execute_result"
    },
    {
     "data": {
      "image/png": "[encoded data removed]",
      "text/plain": [
       "<Figure size 432x288 with 1 Axes>"
      ]
     },
     "metadata": {
      "needs_background": "light"
     },
     "output_type": "display_data"
    }
   ],
   "source": [
    "plt.bar([\"chinese\",\"italian\",\"japanese\",\"korean\",\"mexican\",\"newamerican\"],reviews.groupby(\"type\").mean()[\"rating\"])"
   ]
  },
  {
   "cell_type": "markdown",
   "metadata": {},
   "source": [
    "### Sentimental analysis for review text\n",
    "When sharing their opintions on a certain restaurant, the Yelp user not only writes something (i.e. the review text) but also gives a rating from 1 star to 5 stars. Some people tend to write something bad but give a relative fine score while some people tend to write something good but just give a low rating. To extract the feelings or emotions in the review text, we applied sentimental analysis to assign a score to each review which represents the probability to be a positive text."
   ]
  },
  {
   "cell_type": "markdown",
   "metadata": {},
   "source": [
    "#### Library installation\n",
    "`TextBlob` is a sentimental analysis Python library. It is buiut on `nltk` and has some well-trained models for direct use. We need install the library as well as its corpus."
   ]
  },
  {
   "cell_type": "code",
   "execution_count": null,
   "metadata": {},
   "outputs": [],
   "source": [
    "! pip install textblob"
   ]
  },
  {
   "cell_type": "code",
   "execution_count": null,
   "metadata": {},
   "outputs": [],
   "source": [
    "! python -m textblob.download_corpora"
   ]
  },
  {
   "cell_type": "code",
   "execution_count": 15,
   "metadata": {},
   "outputs": [],
   "source": [
    "from textblob import TextBlob\n",
    "from textblob.sentiments import NaiveBayesAnalyzer"
   ]
  },
  {
   "cell_type": "markdown",
   "metadata": {},
   "source": [
    "#### Example of `TextBlob`"
   ]
  },
  {
   "cell_type": "code",
   "execution_count": 16,
   "metadata": {},
   "outputs": [
    {
     "data": {
      "text/plain": [
       "'This is good place to have Chinese food in this area, clean inside and excellent service. I like their duck especially!'"
      ]
     },
     "execution_count": 16,
     "metadata": {},
     "output_type": "execute_result"
    }
   ],
   "source": [
    "text = reviews[\"text\"][2]\n",
    "text"
   ]
  },
  {
   "cell_type": "code",
   "execution_count": 20,
   "metadata": {},
   "outputs": [],
   "source": [
    "tb = TextBlob(text, analyzer = NaiveBayesAnalyzer())"
   ]
  },
  {
   "cell_type": "code",
   "execution_count": 21,
   "metadata": {},
   "outputs": [
    {
     "data": {
      "text/plain": [
       "Sentiment(classification='pos', p_pos=0.9459500238217358, p_neg=0.054049976178265596)"
      ]
     },
     "execution_count": 21,
     "metadata": {},
     "output_type": "execute_result"
    }
   ],
   "source": [
    "tb.sentiment"
   ]
  },
  {
   "cell_type": "markdown",
   "metadata": {},
   "source": [
    "#### Applied `TextBlob` on review texts"
   ]
  },
  {
   "cell_type": "code",
   "execution_count": 22,
   "metadata": {},
   "outputs": [],
   "source": [
    "# Create two new columns for the dataframe\n",
    "reviews[\"positive_score\"] = 0.0\n",
    "reviews[\"negative_score\"] = 0.0"
   ]
  },
  {
   "cell_type": "code",
   "execution_count": null,
   "metadata": {},
   "outputs": [],
   "source": [
    "# import tqdn\n",
    "# tqdn.tqdn_notebook()\n",
    "for i in range(0,len(reviews)):\n",
    "    t = TextBlob(reviews[\"text\"][i], analyzer = NaiveBayesAnalyzer())\n",
    "    senti = t.sentiment\n",
    "    reviews[\"positive_score\"][i] = senti.p_pos\n",
    "    reviews[\"negative_score\"][i] = senti.p_neg   "
   ]
  },
  {
   "cell_type": "markdown",
   "metadata": {},
   "source": [
    "#### Result of sentimental analysis\n",
    "Since it takes quite a long time to run the sentimental model on each review, we uploaded the result file to save time."
   ]
  },
  {
   "cell_type": "code",
   "execution_count": 24,
   "metadata": {},
   "outputs": [],
   "source": [
    "reviews = pd.read_csv(\"sentimental_scores.csv\") "
   ]
  },
  {
   "cell_type": "code",
   "execution_count": 25,
   "metadata": {},
   "outputs": [
    {
     "data": {
      "text/html": [
       "<div>\n",
       "<style scoped>\n",
       "    .dataframe tbody tr th:only-of-type {\n",
       "        vertical-align: middle;\n",
       "    }\n",
       "\n",
       "    .dataframe tbody tr th {\n",
       "        vertical-align: top;\n",
       "    }\n",
       "\n",
       "    .dataframe thead th {\n",
       "        text-align: right;\n",
       "    }\n",
       "</style>\n",
       "<table border=\"1\" class=\"dataframe\">\n",
       "  <thead>\n",
       "    <tr style=\"text-align: right;\">\n",
       "      <th></th>\n",
       "      <th>rating</th>\n",
       "      <th>restId</th>\n",
       "      <th>text</th>\n",
       "      <th>type</th>\n",
       "      <th>positive_score</th>\n",
       "      <th>negative_score</th>\n",
       "    </tr>\n",
       "  </thead>\n",
       "  <tbody>\n",
       "    <tr>\n",
       "      <td>0</td>\n",
       "      <td>5.0</td>\n",
       "      <td>JJi7c7uiTzCqeWNTsldgXQ</td>\n",
       "      <td>It's been far too long since I've come here. T...</td>\n",
       "      <td>chinese</td>\n",
       "      <td>0.999998</td>\n",
       "      <td>2.370124e-06</td>\n",
       "    </tr>\n",
       "    <tr>\n",
       "      <td>1</td>\n",
       "      <td>5.0</td>\n",
       "      <td>JJi7c7uiTzCqeWNTsldgXQ</td>\n",
       "      <td>My husband and I decided to give this place a ...</td>\n",
       "      <td>chinese</td>\n",
       "      <td>0.696951</td>\n",
       "      <td>3.030491e-01</td>\n",
       "    </tr>\n",
       "    <tr>\n",
       "      <td>2</td>\n",
       "      <td>5.0</td>\n",
       "      <td>JJi7c7uiTzCqeWNTsldgXQ</td>\n",
       "      <td>This is good place to have Chinese food in thi...</td>\n",
       "      <td>chinese</td>\n",
       "      <td>0.945950</td>\n",
       "      <td>5.404998e-02</td>\n",
       "    </tr>\n",
       "    <tr>\n",
       "      <td>3</td>\n",
       "      <td>4.0</td>\n",
       "      <td>JJi7c7uiTzCqeWNTsldgXQ</td>\n",
       "      <td>Oh, maybe I ordered wrong. Or this was the mos...</td>\n",
       "      <td>chinese</td>\n",
       "      <td>0.502963</td>\n",
       "      <td>4.970375e-01</td>\n",
       "    </tr>\n",
       "    <tr>\n",
       "      <td>4</td>\n",
       "      <td>5.0</td>\n",
       "      <td>JJi7c7uiTzCqeWNTsldgXQ</td>\n",
       "      <td>We are new to the area and got some take out f...</td>\n",
       "      <td>chinese</td>\n",
       "      <td>0.902847</td>\n",
       "      <td>9.715285e-02</td>\n",
       "    </tr>\n",
       "    <tr>\n",
       "      <td>...</td>\n",
       "      <td>...</td>\n",
       "      <td>...</td>\n",
       "      <td>...</td>\n",
       "      <td>...</td>\n",
       "      <td>...</td>\n",
       "      <td>...</td>\n",
       "    </tr>\n",
       "    <tr>\n",
       "      <td>1547</td>\n",
       "      <td>3.0</td>\n",
       "      <td>z4EIzLJlGd7gyje1Q_hKtw</td>\n",
       "      <td>Smallman Galley is one of my favorite places i...</td>\n",
       "      <td>newamerican</td>\n",
       "      <td>1.000000</td>\n",
       "      <td>3.047489e-12</td>\n",
       "    </tr>\n",
       "    <tr>\n",
       "      <td>1548</td>\n",
       "      <td>5.0</td>\n",
       "      <td>z4EIzLJlGd7gyje1Q_hKtw</td>\n",
       "      <td>My husband and I love federal galley. This is ...</td>\n",
       "      <td>newamerican</td>\n",
       "      <td>0.949620</td>\n",
       "      <td>5.037985e-02</td>\n",
       "    </tr>\n",
       "    <tr>\n",
       "      <td>1549</td>\n",
       "      <td>5.0</td>\n",
       "      <td>z4EIzLJlGd7gyje1Q_hKtw</td>\n",
       "      <td>Great lunch visit for all to this bustling foo...</td>\n",
       "      <td>newamerican</td>\n",
       "      <td>0.992826</td>\n",
       "      <td>7.174252e-03</td>\n",
       "    </tr>\n",
       "    <tr>\n",
       "      <td>1550</td>\n",
       "      <td>5.0</td>\n",
       "      <td>iTonKZOZWC42LlQB77JpkA</td>\n",
       "      <td>This is a great LITTLE bar/restaurant!\\n\\nIt i...</td>\n",
       "      <td>newamerican</td>\n",
       "      <td>0.941640</td>\n",
       "      <td>5.836005e-02</td>\n",
       "    </tr>\n",
       "    <tr>\n",
       "      <td>1551</td>\n",
       "      <td>4.0</td>\n",
       "      <td>iTonKZOZWC42LlQB77JpkA</td>\n",
       "      <td>I was super hesitant when the front desk girl ...</td>\n",
       "      <td>newamerican</td>\n",
       "      <td>0.143557</td>\n",
       "      <td>8.564432e-01</td>\n",
       "    </tr>\n",
       "  </tbody>\n",
       "</table>\n",
       "<p>1552 rows × 6 columns</p>\n",
       "</div>"
      ],
      "text/plain": [
       "      rating                  restId  \\\n",
       "0        5.0  JJi7c7uiTzCqeWNTsldgXQ   \n",
       "1        5.0  JJi7c7uiTzCqeWNTsldgXQ   \n",
       "2        5.0  JJi7c7uiTzCqeWNTsldgXQ   \n",
       "3        4.0  JJi7c7uiTzCqeWNTsldgXQ   \n",
       "4        5.0  JJi7c7uiTzCqeWNTsldgXQ   \n",
       "...      ...                     ...   \n",
       "1547     3.0  z4EIzLJlGd7gyje1Q_hKtw   \n",
       "1548     5.0  z4EIzLJlGd7gyje1Q_hKtw   \n",
       "1549     5.0  z4EIzLJlGd7gyje1Q_hKtw   \n",
       "1550     5.0  iTonKZOZWC42LlQB77JpkA   \n",
       "1551     4.0  iTonKZOZWC42LlQB77JpkA   \n",
       "\n",
       "                                                   text         type  \\\n",
       "0     It's been far too long since I've come here. T...      chinese   \n",
       "1     My husband and I decided to give this place a ...      chinese   \n",
       "2     This is good place to have Chinese food in thi...      chinese   \n",
       "3     Oh, maybe I ordered wrong. Or this was the mos...      chinese   \n",
       "4     We are new to the area and got some take out f...      chinese   \n",
       "...                                                 ...          ...   \n",
       "1547  Smallman Galley is one of my favorite places i...  newamerican   \n",
       "1548  My husband and I love federal galley. This is ...  newamerican   \n",
       "1549  Great lunch visit for all to this bustling foo...  newamerican   \n",
       "1550  This is a great LITTLE bar/restaurant!\\n\\nIt i...  newamerican   \n",
       "1551  I was super hesitant when the front desk girl ...  newamerican   \n",
       "\n",
       "      positive_score  negative_score  \n",
       "0           0.999998    2.370124e-06  \n",
       "1           0.696951    3.030491e-01  \n",
       "2           0.945950    5.404998e-02  \n",
       "3           0.502963    4.970375e-01  \n",
       "4           0.902847    9.715285e-02  \n",
       "...              ...             ...  \n",
       "1547        1.000000    3.047489e-12  \n",
       "1548        0.949620    5.037985e-02  \n",
       "1549        0.992826    7.174252e-03  \n",
       "1550        0.941640    5.836005e-02  \n",
       "1551        0.143557    8.564432e-01  \n",
       "\n",
       "[1552 rows x 6 columns]"
      ]
     },
     "execution_count": 25,
     "metadata": {},
     "output_type": "execute_result"
    }
   ],
   "source": [
    "reviews = reviews.drop(reviews.columns[0], axis=1)\n",
    "reviews"
   ]
  },
  {
   "cell_type": "markdown",
   "metadata": {},
   "source": [
    "#### Mean sentimental socres for each category"
   ]
  },
  {
   "cell_type": "code",
   "execution_count": 26,
   "metadata": {},
   "outputs": [
    {
     "data": {
      "text/html": [
       "<div>\n",
       "<style scoped>\n",
       "    .dataframe tbody tr th:only-of-type {\n",
       "        vertical-align: middle;\n",
       "    }\n",
       "\n",
       "    .dataframe tbody tr th {\n",
       "        vertical-align: top;\n",
       "    }\n",
       "\n",
       "    .dataframe thead th {\n",
       "        text-align: right;\n",
       "    }\n",
       "</style>\n",
       "<table border=\"1\" class=\"dataframe\">\n",
       "  <thead>\n",
       "    <tr style=\"text-align: right;\">\n",
       "      <th></th>\n",
       "      <th>rating</th>\n",
       "      <th>positive_score</th>\n",
       "      <th>negative_score</th>\n",
       "    </tr>\n",
       "    <tr>\n",
       "      <th>type</th>\n",
       "      <th></th>\n",
       "      <th></th>\n",
       "      <th></th>\n",
       "    </tr>\n",
       "  </thead>\n",
       "  <tbody>\n",
       "    <tr>\n",
       "      <td>chinese</td>\n",
       "      <td>3.433846</td>\n",
       "      <td>0.767375</td>\n",
       "      <td>0.232625</td>\n",
       "    </tr>\n",
       "    <tr>\n",
       "      <td>italian</td>\n",
       "      <td>3.753351</td>\n",
       "      <td>0.864170</td>\n",
       "      <td>0.135830</td>\n",
       "    </tr>\n",
       "    <tr>\n",
       "      <td>japanese</td>\n",
       "      <td>3.812500</td>\n",
       "      <td>0.792091</td>\n",
       "      <td>0.207909</td>\n",
       "    </tr>\n",
       "    <tr>\n",
       "      <td>korean</td>\n",
       "      <td>4.114286</td>\n",
       "      <td>0.855282</td>\n",
       "      <td>0.144718</td>\n",
       "    </tr>\n",
       "    <tr>\n",
       "      <td>mexican</td>\n",
       "      <td>3.429630</td>\n",
       "      <td>0.735627</td>\n",
       "      <td>0.264373</td>\n",
       "    </tr>\n",
       "    <tr>\n",
       "      <td>newamerican</td>\n",
       "      <td>3.848614</td>\n",
       "      <td>0.806903</td>\n",
       "      <td>0.193097</td>\n",
       "    </tr>\n",
       "  </tbody>\n",
       "</table>\n",
       "</div>"
      ],
      "text/plain": [
       "               rating  positive_score  negative_score\n",
       "type                                                 \n",
       "chinese      3.433846        0.767375        0.232625\n",
       "italian      3.753351        0.864170        0.135830\n",
       "japanese     3.812500        0.792091        0.207909\n",
       "korean       4.114286        0.855282        0.144718\n",
       "mexican      3.429630        0.735627        0.264373\n",
       "newamerican  3.848614        0.806903        0.193097"
      ]
     },
     "execution_count": 26,
     "metadata": {},
     "output_type": "execute_result"
    }
   ],
   "source": [
    "meanByCate = reviews.groupby(\"type\").mean()\n",
    "meanByCate"
   ]
  },
  {
   "cell_type": "code",
   "execution_count": 28,
   "metadata": {},
   "outputs": [
    {
     "data": {
      "text/plain": [
       "[<matplotlib.lines.Line2D at 0x1e5610aacc0>]"
      ]
     },
     "execution_count": 28,
     "metadata": {},
     "output_type": "execute_result"
    },
    {
     "data": {
      "image/png": "[encoded data removed]",
      "text/plain": [
       "<Figure size 432x288 with 1 Axes>"
      ]
     },
     "metadata": {
      "needs_background": "light"
     },
     "output_type": "display_data"
    }
   ],
   "source": [
    "plt.plot(meanByCate[\"rating\"])"
   ]
  },
  {
   "cell_type": "code",
   "execution_count": 31,
   "metadata": {},
   "outputs": [
    {
     "data": {
      "text/plain": [
       "<BarContainer object of 6 artists>"
      ]
     },
     "execution_count": 31,
     "metadata": {},
     "output_type": "execute_result"
    },
    {
     "data": {
      "image/png": "[encoded data removed]",
      "text/plain": [
       "<Figure size 432x288 with 1 Axes>"
      ]
     },
     "metadata": {
      "needs_background": "light"
     },
     "output_type": "display_data"
    }
   ],
   "source": [
    "plt.bar([\"chinese\",\"italian\",\"japanese\",\"korean\",\"mexican\",\"newamerican\"],meanByCate['rating'])"
   ]
  },
  {
   "cell_type": "code",
   "execution_count": 27,
   "metadata": {},
   "outputs": [
    {
     "data": {
      "text/plain": [
       "[<matplotlib.lines.Line2D at 0x1e56107cf28>]"
      ]
     },
     "execution_count": 27,
     "metadata": {},
     "output_type": "execute_result"
    },
    {
     "data": {
      "image/png": "[encoded data removed]",
      "text/plain": [
       "<Figure size 432x288 with 1 Axes>"
      ]
     },
     "metadata": {
      "needs_background": "light"
     },
     "output_type": "display_data"
    }
   ],
   "source": [
    "plt.plot(meanByCate[\"positive_score\"])"
   ]
  },
  {
   "cell_type": "code",
   "execution_count": 32,
   "metadata": {},
   "outputs": [
    {
     "data": {
      "text/plain": [
       "<BarContainer object of 6 artists>"
      ]
     },
     "execution_count": 32,
     "metadata": {},
     "output_type": "execute_result"
    },
    {
     "data": {
      "image/png": "[encoded data removed]",
      "text/plain": [
       "<Figure size 432x288 with 1 Axes>"
      ]
     },
     "metadata": {
      "needs_background": "light"
     },
     "output_type": "display_data"
    }
   ],
   "source": [
    "plt.bar([\"chinese\",\"italian\",\"japanese\",\"korean\",\"mexican\",\"newamerican\"],norm['positive_score'])"
   ]
  },
  {
   "cell_type": "code",
   "execution_count": 30,
   "metadata": {
    "scrolled": true
   },
   "outputs": [
    {
     "data": {
      "text/plain": [
       "[<matplotlib.lines.Line2D at 0x1e5610b95f8>,\n",
       " <matplotlib.lines.Line2D at 0x1e5610b9cc0>]"
      ]
     },
     "execution_count": 30,
     "metadata": {},
     "output_type": "execute_result"
    },
    {
     "data": {
      "image/png": "[encoded data removed]",
      "text/plain": [
       "<Figure size 432x288 with 1 Axes>"
      ]
     },
     "metadata": {
      "needs_background": "light"
     },
     "output_type": "display_data"
    }
   ],
   "source": [
    "# Normalize the rating to range [0,1] to compare with sentimental scores directly\n",
    "norm = meanByCate.copy()\n",
    "norm['rating'] = norm['rating']/5\n",
    "plt.plot(norm[['rating','positive_score']])"
   ]
  },
  {
   "cell_type": "markdown",
   "metadata": {},
   "source": [
    "### Hypothesis testing on whether there is different standard for each category"
   ]
  },
  {
   "cell_type": "markdown",
   "metadata": {},
   "source": [
    "#### Theorem and library installation"
   ]
  },
  {
   "cell_type": "code",
   "execution_count": 33,
   "metadata": {},
   "outputs": [],
   "source": [
    "from scipy import stats"
   ]
  },
  {
   "cell_type": "code",
   "execution_count": 42,
   "metadata": {},
   "outputs": [],
   "source": [
    "import math"
   ]
  },
  {
   "cell_type": "markdown",
   "metadata": {},
   "source": [
    "#### Example on regression"
   ]
  },
  {
   "cell_type": "code",
   "execution_count": 34,
   "metadata": {},
   "outputs": [],
   "source": [
    "slope, intercept, r_value, p_value, std_err = stats.linregress(reviews[reviews[\"type\"]==\"chinese\"][\"positive_score\"],reviews[reviews[\"type\"]==\"chinese\"][\"rating\"])"
   ]
  },
  {
   "cell_type": "code",
   "execution_count": 35,
   "metadata": {},
   "outputs": [
    {
     "data": {
      "text/plain": [
       "(2.110771788123103,\n",
       " 1.8140919051204252,\n",
       " 0.45075406444374405,\n",
       " 1.1421297151146669e-17,\n",
       " 0.23258445891059815)"
      ]
     },
     "execution_count": 35,
     "metadata": {},
     "output_type": "execute_result"
    }
   ],
   "source": [
    "slope, intercept, r_value, p_value, std_err"
   ]
  },
  {
   "cell_type": "markdown",
   "metadata": {},
   "source": [
    "#### Regression"
   ]
  },
  {
   "cell_type": "code",
   "execution_count": 37,
   "metadata": {},
   "outputs": [],
   "source": [
    "types = [\"chinese\",\"italian\",\"japanese\",\"korean\",\"mexican\",\"newamerican\"]"
   ]
  },
  {
   "cell_type": "code",
   "execution_count": 38,
   "metadata": {},
   "outputs": [],
   "source": [
    "slopes = {}\n",
    "std_errs = {}\n",
    "for i in range(0,len(types)):\n",
    "    slope, intercept, r_value, p_value, std_err = stats.linregress(reviews[reviews[\"type\"]==types[i]][\"positive_score\"],reviews[reviews[\"type\"]==types[i]][\"rating\"])\n",
    "    slopes[types[i]] = slope\n",
    "    std_errs[types[i]] = std_err"
   ]
  },
  {
   "cell_type": "code",
   "execution_count": 39,
   "metadata": {},
   "outputs": [
    {
     "data": {
      "text/plain": [
       "{'chinese': 2.110771788123103,\n",
       " 'italian': 1.7217859374529048,\n",
       " 'japanese': 1.2788598473347195,\n",
       " 'korean': 1.1992683616906192,\n",
       " 'mexican': 1.7668827921561852,\n",
       " 'newamerican': 1.2677619068041497}"
      ]
     },
     "execution_count": 39,
     "metadata": {},
     "output_type": "execute_result"
    }
   ],
   "source": [
    "slopes"
   ]
  },
  {
   "cell_type": "code",
   "execution_count": 45,
   "metadata": {},
   "outputs": [
    {
     "data": {
      "text/plain": [
       "<BarContainer object of 6 artists>"
      ]
     },
     "execution_count": 45,
     "metadata": {},
     "output_type": "execute_result"
    },
    {
     "data": {
      "image/png": "[encoded data removed]",
      "text/plain": [
       "<Figure size 432x288 with 1 Axes>"
      ]
     },
     "metadata": {
      "needs_background": "light"
     },
     "output_type": "display_data"
    }
   ],
   "source": [
    "plt.bar(*zip(*sorted(slopes.items())))"
   ]
  },
  {
   "cell_type": "code",
   "execution_count": 40,
   "metadata": {},
   "outputs": [
    {
     "data": {
      "text/plain": [
       "{'chinese': 0.23258445891059815,\n",
       " 'italian': 0.26690109773999804,\n",
       " 'japanese': 0.4588331840417963,\n",
       " 'korean': 0.5420079415959076,\n",
       " 'mexican': 0.21286559990583956,\n",
       " 'newamerican': 0.17233371252499435}"
      ]
     },
     "execution_count": 40,
     "metadata": {},
     "output_type": "execute_result"
    }
   ],
   "source": [
    "std_errs"
   ]
  },
  {
   "cell_type": "code",
   "execution_count": 46,
   "metadata": {},
   "outputs": [
    {
     "data": {
      "text/plain": [
       "<BarContainer object of 6 artists>"
      ]
     },
     "execution_count": 46,
     "metadata": {},
     "output_type": "execute_result"
    },
    {
     "data": {
      "image/png": "[encoded data removed]",
      "text/plain": [
       "<Figure size 432x288 with 1 Axes>"
      ]
     },
     "metadata": {
      "needs_background": "light"
     },
     "output_type": "display_data"
    }
   ],
   "source": [
    "plt.bar(*zip(*sorted(std_errs.items())))"
   ]
  },
  {
   "cell_type": "markdown",
   "metadata": {},
   "source": [
    "#### Hypothesis testing"
   ]
  },
  {
   "cell_type": "code",
   "execution_count": 43,
   "metadata": {},
   "outputs": [],
   "source": [
    "zs = {}\n",
    "for i in range(0,len(types)):\n",
    "    for j in range(i+1,len(types)):\n",
    "        z = (slopes[types[i]] - slopes[types[j]]) / math.sqrt(std_errs[types[i]]**2 + std_errs[types[j]]**2)\n",
    "        rej = z > 1.65\n",
    "        zs[types[i]+\" & \"+types[j]] = (z, rej)"
   ]
  },
  {
   "cell_type": "code",
   "execution_count": 44,
   "metadata": {},
   "outputs": [
    {
     "data": {
      "text/plain": [
       "{'chinese & italian': (1.0987611444179142, False),\n",
       " 'chinese & japanese': (1.6171980831638717, False),\n",
       " 'chinese & korean': (1.5454358355991136, False),\n",
       " 'chinese & mexican': (1.0907096432836478, False),\n",
       " 'chinese & newamerican': (2.9122259428989445, True),\n",
       " 'italian & japanese': (0.8344271834918732, False),\n",
       " 'italian & korean': (0.8648668138680667, False),\n",
       " 'italian & mexican': (-0.13209729226894856, False),\n",
       " 'italian & newamerican': (1.429083883465232, False),\n",
       " 'japanese & korean': (0.11207839732447912, False),\n",
       " 'japanese & mexican': (-0.9648422468349488, False),\n",
       " 'japanese & newamerican': (0.022642880047275417, False),\n",
       " 'korean & mexican': (-0.9747641330072548, False),\n",
       " 'korean & newamerican': (-0.12042915036094734, False),\n",
       " 'mexican & newamerican': (1.8224021311381875, True)}"
      ]
     },
     "execution_count": 44,
     "metadata": {},
     "output_type": "execute_result"
    }
   ],
   "source": [
    "zs"
   ]
  },
  {
   "cell_type": "markdown",
   "metadata": {},
   "source": [
    "There are two pairs of testing produces the \"rejection\" result, which means the coefficient for Chinese and New American cuisines and the coefficient for Mexican and New American cuisines have significantly difference."
   ]
  },
  {
   "cell_type": "markdown",
   "metadata": {},
   "source": [
    "### Conclusion"
   ]
  },
  {
   "cell_type": "markdown",
   "metadata": {},
   "source": [
    "We first did sentimental analysis for review text. By Naive Bayes, we got the positive score for each text and calculate the mean by each category. The rating is the actual score given by the user along with the review and the positive score is produced by the sentimental model. Then we ran the regression from positive scores to actual ratings and got the slope for each category. The higher slope means people say something not that good but still give high rating. People are more generous in this way! To see if there is any different standard when rating different categories, we did hypothesis testing on slope coefficient. The result shows people are more harsh to New American dishes than Chinese dishes and Mexican dishes! Notes that over 50% Yelp users are from US or Canada, We believe people tend to have higher standard for dishes from their own culture! \n",
    "\n"
   ]
  },
  {
   "cell_type": "code",
   "execution_count": null,
   "metadata": {},
   "outputs": [],
   "source": []
  }
 ],
 "metadata": {
  "kernelspec": {
   "display_name": "Python 3",
   "language": "python",
   "name": "python3"
  },
  "language_info": {
   "codemirror_mode": {
    "name": "ipython",
    "version": 3
   },
   "file_extension": ".py",
   "mimetype": "text/x-python",
   "name": "python",
   "nbconvert_exporter": "python",
   "pygments_lexer": "ipython3",
   "version": "3.6.9"
  }
 },
 "nbformat": 4,
 "nbformat_minor": 2
}

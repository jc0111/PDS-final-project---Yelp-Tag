{
 "cells": [
  {
   "cell_type": "markdown",
   "metadata": {},
   "source": [
    "15-688 final project - jiabinc, kailic, tingyiw\n",
    "# Analysis of Pittsburgh Restaurant Reviews from Yelp\n",
    "\n",
    "## Introduction\n",
    "Yelp is a business directory service and crowd-sourced review forum. Since Yelp users usually rely heavily on ratings and reviews for restaurants, it is important for ratings on Yelp to accurately represent the quality of the restaurants. In this project, we analyzed the sentiment of restaurant reviews to compare that with the overall ratings restaurants received from users, and we focused on the differences among six popular cuisines. Moreover, since restaurant owners are interested in increasing the popularity of their restaurants, we seek important variables that contribute to higher average number of reviews of restaurants in a neighborhood.\n",
    "   \n",
    "   \n",
    "## The content of this Project will be as the followings:\n",
    "- [Getting Data](#Getting-Data)<br>\n",
    "- [Exploratory Data Analysis](#Exploratory-Data-Analysis)<br>\n",
    "- [Sentimental Analysis on Reviews](#Sentimental-Analysis-on-Reviews)<br>\n",
    "- [Restaurant Popularity: Number of Reviews](#Restaurant-Popularity:-Number-of-Reviews)<br>\n",
    "- [Recommendations](#Recommendations)<br>\n",
    "- [Future Directions](#Future-Directions)<br>\n",
    "- [References](#References)<br>\n",
    "<br><br>"
   ]
  },
  {
   "cell_type": "markdown",
   "metadata": {},
   "source": [
    "## Getting Data\n",
    "\n",
    "For our Project analyzing reviews of restaurants at Pittsburgh, we use yelp as our data source for further analysis.\n",
    "\n",
    "### Approach\n",
    " - __API__ <br>\n",
    "  Using [Yelp Fusion API](https://www.yelp.com/fusion), we collect the basic information of restaurants in     Pittsburgh area.\n",
    " - __Beautiful Soup__ <br>\n",
    "  Reviews of restaurants are scraped from restaurant page, getting the first 5 reviews.\n",
    "  \n",
    "#### 1. Restaurants in Pittsburgh\n",
    "Our Project focus on restaurants inside `Pittsburgh` areas under 6 popular cetagores : <br>\n",
    "`Chinese`, `Newamerican`, `Mexican`, `Italian`, `Korean`, `Japanese`<br>\n",
    "<br>\n",
    "There are a total of 2,088 restaurants in Pittsburgh. Here we were not passing the parameters to get restaurants under certain categories because of the issue with the unstable filter of the API( ex. Adding parameters of Japanses also returned many other type of restaurants such as Italian), but we scrape the category label while scraping and process the data after we'd acquired the full restaurants data set.<br><br>\n",
    "Recall that we scrape data from yelp in Homework1. We modify the home work to collect the data we needed.<br>\n",
    "<br>\n",
    "we'll need the following library:"
   ]
  },
  {
   "cell_type": "code",
   "execution_count": 73,
   "metadata": {},
   "outputs": [],
   "source": [
    "import time, json\n",
    "import requests\n",
    "import pandas as pd\n",
    "from pathlib import Path\n",
    "from bs4 import BeautifulSoup\n",
    "from scipy import stats\n",
    "import math\n",
    "import numpy as np\n",
    "import matplotlib\n",
    "import matplotlib.pyplot as plt\n",
    "from tqdm import tqdm_notebook\n",
    "%matplotlib inline\n",
    "matplotlib.style.use('ggplot')"
   ]
  },
  {
   "cell_type": "markdown",
   "metadata": {},
   "source": [
    "Since Yelp Fusion API require API Key for access. Following function(from HW1) is to read our API key for further usage."
   ]
  },
  {
   "cell_type": "code",
   "execution_count": 2,
   "metadata": {},
   "outputs": [],
   "source": [
    "def read_api_key(filepath=\"api_key.txt\"):\n",
    "    \"\"\"\n",
    "    Read the Yelp API Key from file.\n",
    "    \n",
    "    Args:\n",
    "        filepath (string): File containing API Key\n",
    "    Returns:\n",
    "        api_key (string): The API Key\n",
    "    \"\"\"\n",
    "    return Path(filepath).read_text().strip()"
   ]
  },
  {
   "cell_type": "markdown",
   "metadata": {},
   "source": [
    "For restaurants information, we modified our code from Homework1, but instead of returning a List, we store the data into Pandas DataFrame.<br>\n",
    "\n",
    "For the DataFrame of the restaurant basic information, we will have 8 columns as follows:<br>\n",
    "\n",
    "| | **restaurants** | \n",
    "|----------|:-------------|\n",
    "| restId      | Restaurant identifier(the ID of the restaurant. |\n",
    "| name | Name of the restaurant. |\n",
    "| category | The type of restaurant (eg. NewAmerican, Chinese, Italian...)|\n",
    "| rating | Overall rating of the restaurant. |\n",
    "| review_count | Number of reviews the restaurant have received so far. |\n",
    "| url | url to the page of the restaurant on Yelp. | \n",
    "| zipcode | The zipcode of the restaurant. | \n",
    "| address | Address of the restaurant. | \n"
   ]
  },
  {
   "cell_type": "code",
   "execution_count": 3,
   "metadata": {},
   "outputs": [],
   "source": [
    "def all_restaurants(api_key, query, df):\n",
    "    \"\"\"\n",
    "    Retrieve ALL the restaurants on Yelp for a given query.\n",
    "\n",
    "    Args:\n",
    "        query (string): Search term(Locations, eg. Pittsburgh)\n",
    "        \n",
    "        df: DataFrame to add our restaurant info into\n",
    "        \n",
    "    Returns:\n",
    "        results (list): list of dicts representing each business\n",
    "    \"\"\"\n",
    "    # base url for searching with yelp API.\n",
    "    base_url = \"https://api.yelp.com/v3/businesses/search\" \n",
    "    # parameters for our search. Here we limit our search to Restaurants.\n",
    "    params = {'categories': 'Restaurants', 'location': query} \n",
    "    # headers containing our API Key\n",
    "    headers = {\n",
    "        'Authorization': 'Bearer %s' % api_key,\n",
    "    }\n",
    "    res = requests.get(base_url, params = params, headers = headers)\n",
    "    base_data = json.loads(res.text)\n",
    "    # get the total records returned by API\n",
    "    try:\n",
    "        total_rec = base_data.get('total')\n",
    "    except Exception as e:\n",
    "        total_rec = None\n",
    "        print(e)\n",
    "        return []\n",
    "    # calculate the pages we need to loop through for getting all the data\n",
    "    total_page = int(total_rec / 20 + 1)\n",
    "    # sending request to API with the parameters of offset and pages info\n",
    "    for page in range(1, total_page+1):\n",
    "        offset = str((page-1)*20)\n",
    "        limit = str(20)\n",
    "        # update the parameters\n",
    "        params.update({'offset': offset, 'limit': limit})\n",
    "        # request and loads the returned data\n",
    "        res = requests.get(base_url, params = params, headers = headers)\n",
    "        data = json.loads(res.text)\n",
    "        try:\n",
    "            for block in data['businesses']:\n",
    "                # We use zipcode to narrow down the number of records to get full access to the total records returned\n",
    "                # reason to use zipcode are explained below\n",
    "                zipcode = block.get('location').get('zip_code')\n",
    "                # since the filter of the API does not work as expected to narrow to only one zipcode but also \n",
    "                # include some restaurants in other zipcode. To prevent duplicated data inserted. We chech if \n",
    "                # the zipcode is already in our data. If yes, skip.\n",
    "                if zipcode != query:\n",
    "                    continue\n",
    "                # get restaurant ID\n",
    "                restId = block.get('id')\n",
    "                # get restaurant name\n",
    "                name = block.get('name')\n",
    "                # get review count\n",
    "                review_count = block.get('review_count')\n",
    "                # get rating\n",
    "                rating = block.get('rating')\n",
    "                # we will use category to narrow down the restaurants to those we are focusing on.\n",
    "                category = block.get('categories')[0].get('alias')\n",
    "                # get address\n",
    "                address = block.get('location').get('address1')\n",
    "                # we will later use this to scrape the reviews of a restaurant.\n",
    "                url = block.get('url')\n",
    "                # storing data into DataFrame\n",
    "                df = df.append({'restId':restId, 'name':name, 'category':category, 'rating':rating, 'review_count':review_count, 'zipcode':zipcode, 'address':address, 'url':url}, ignore_index=True)\n",
    "        except KeyError:\n",
    "                pass\n",
    "        time.sleep(0.2)\n",
    "    return df"
   ]
  },
  {
   "cell_type": "markdown",
   "metadata": {},
   "source": [
    "However, since the API has a limitation of 1,000 records being returned for each request, we are not able to extract all 2,088 records by a single request. Therefore, we narrowed down the location scope for our request to break the returned data into smaller chunk. For each request, we request by a zipcode area inside Pittsburgh, thus before scraping the restaurant data, we first scrape the data of all zipcode within Pittsburgh.\n",
    "\n",
    "We get the zipcode list of all Pennsylvania by scraping the from [ZIP CODES TO GO](https://www.zipcodestogo.com/Pennsylvania/). By the first few attempts on the scraping, the status code 406 were returned indicating the request we sent is not acceptable according to [Wikipedia-state code](https://en.wikipedia.org/wiki/List_of_HTTP_status_codes). We try to by pass this problem by generating a fake header for our request.\n",
    "\n",
    "To generate a random header for the request, we use an external package [fake-useragent 0.1.11](https://pypi.org/project/fake-useragent/). Following function for generating random_headers are modified from the sample code from the package website(check the link above)."
   ]
  },
  {
   "cell_type": "code",
   "execution_count": 4,
   "metadata": {},
   "outputs": [],
   "source": [
    "from fake_useragent import UserAgent"
   ]
  },
  {
   "cell_type": "code",
   "execution_count": 5,
   "metadata": {},
   "outputs": [],
   "source": [
    "def random_headers():\n",
    "    \"\"\"\n",
    "    generate random headers.\n",
    "        \n",
    "    Returns:\n",
    "        results String: a header to use in our request.\n",
    "    \"\"\"\n",
    "    try:\n",
    "        # instantiate a UserAgent object\n",
    "        ua = UserAgent()\n",
    "    except FakeUserAgentError:\n",
    "        pass\n",
    "    # get a random header\n",
    "    random_user_agent =ua.random\n",
    "    return random_user_agent"
   ]
  },
  {
   "cell_type": "code",
   "execution_count": 6,
   "metadata": {},
   "outputs": [],
   "source": [
    "def zipCodeScraper(url):\n",
    "    \"\"\"\n",
    "    get the list of zipcode.\n",
    "    \n",
    "    Args:\n",
    "        url (String): The String value of the target url to scrape the zipcode needed.\n",
    "    Returns:\n",
    "        results (List): a list of zipcode.\n",
    "    \"\"\"\n",
    "    # include our header for the request\n",
    "    headers = {\n",
    "                'User-Agent':random_headers(),\n",
    "            }\n",
    "    response = requests.get(url, headers = headers)\n",
    "    soup = BeautifulSoup(response.text, \"html.parser\")\n",
    "    block = soup.find_all('td', {'align':'center'})\n",
    "    zip_code = []\n",
    "    for record in block:\n",
    "        zipcode = record.text\n",
    "        zip_code.append(zipcode)\n",
    "    return zip_code"
   ]
  },
  {
   "cell_type": "code",
   "execution_count": 8,
   "metadata": {},
   "outputs": [],
   "source": [
    "# We now gets a list of all the zipcodes within Pennsylvenia.\n",
    "zipcode_list = zipCodeScraper('https://www.zipcodestogo.com/Pennsylvania/')"
   ]
  },
  {
   "cell_type": "code",
   "execution_count": 9,
   "metadata": {},
   "outputs": [],
   "source": [
    "# Narrowed it down to zipcodes within Pittsburgh (zipcode start with 152)\n",
    "pitts_zipcode = [i for i in zipcode_list if i[:3] == '152']"
   ]
  },
  {
   "cell_type": "code",
   "execution_count": 13,
   "metadata": {},
   "outputs": [],
   "source": [
    "# Instantiate a DataFrame to store all records:\n",
    "pitts_rest = pd.DataFrame()"
   ]
  },
  {
   "cell_type": "code",
   "execution_count": 14,
   "metadata": {},
   "outputs": [
    {
     "data": {
      "application/vnd.jupyter.widget-view+json": {
       "model_id": "f3624b5ee7a64cb28e09735590108fa3",
       "version_major": 2,
       "version_minor": 0
      },
      "text/plain": [
       "HBox(children=(IntProgress(value=0, max=77), HTML(value='')))"
      ]
     },
     "metadata": {},
     "output_type": "display_data"
    },
    {
     "name": "stdout",
     "output_type": "stream",
     "text": [
      "\n"
     ]
    }
   ],
   "source": [
    "for zipcode in tqdm_notebook(pitts_zipcode):\n",
    "    pitts_rest = all_restaurants(red_api_key(), zipcode, pitts_rest)"
   ]
  },
  {
   "cell_type": "markdown",
   "metadata": {},
   "source": [
    "Since it take more than an hour to scrape all the restaurants, we provide the csv file of the data on the [google drive](https://drive.google.com/open?id=1okbuSNMZ8qNTzyKPax5nothX9Qwv5Ul4).<br>"
   ]
  },
  {
   "cell_type": "code",
   "execution_count": 123,
   "metadata": {},
   "outputs": [],
   "source": [
    "# here is our quick peek for the data.\n",
    "pitts_rest = pd.read_csv(\"pitts_rest.csv\", index_col=0)"
   ]
  },
  {
   "cell_type": "code",
   "execution_count": 66,
   "metadata": {},
   "outputs": [
    {
     "data": {
      "text/html": [
       "<div>\n",
       "<style scoped>\n",
       "    .dataframe tbody tr th:only-of-type {\n",
       "        vertical-align: middle;\n",
       "    }\n",
       "\n",
       "    .dataframe tbody tr th {\n",
       "        vertical-align: top;\n",
       "    }\n",
       "\n",
       "    .dataframe thead th {\n",
       "        text-align: right;\n",
       "    }\n",
       "</style>\n",
       "<table border=\"1\" class=\"dataframe\">\n",
       "  <thead>\n",
       "    <tr style=\"text-align: right;\">\n",
       "      <th></th>\n",
       "      <th>address</th>\n",
       "      <th>category</th>\n",
       "      <th>name</th>\n",
       "      <th>rating</th>\n",
       "      <th>restId</th>\n",
       "      <th>review_count</th>\n",
       "      <th>url</th>\n",
       "      <th>zipcode</th>\n",
       "    </tr>\n",
       "  </thead>\n",
       "  <tbody>\n",
       "    <tr>\n",
       "      <td>0</td>\n",
       "      <td>4502 Butler St</td>\n",
       "      <td>vietnamese</td>\n",
       "      <td>Banh Mi &amp; Ti</td>\n",
       "      <td>4.5</td>\n",
       "      <td>4mYS-4UOjTKgsf0tX1_IkQ</td>\n",
       "      <td>250.0</td>\n",
       "      <td>https://www.yelp.com/biz/banh-mi-and-ti-pittsb...</td>\n",
       "      <td>15201</td>\n",
       "    </tr>\n",
       "    <tr>\n",
       "      <td>1</td>\n",
       "      <td>5202 Butler St</td>\n",
       "      <td>coffee</td>\n",
       "      <td>B52 Cafe</td>\n",
       "      <td>4.5</td>\n",
       "      <td>bXCWON2Me0o86qvAb-XZPQ</td>\n",
       "      <td>258.0</td>\n",
       "      <td>https://www.yelp.com/biz/b52-cafe-pittsburgh-4...</td>\n",
       "      <td>15201</td>\n",
       "    </tr>\n",
       "    <tr>\n",
       "      <td>2</td>\n",
       "      <td>3623 Butler St</td>\n",
       "      <td>coffee</td>\n",
       "      <td>Espresso a Mano</td>\n",
       "      <td>4.5</td>\n",
       "      <td>Cf0iV72DTqR0ggBje2d0sg</td>\n",
       "      <td>337.0</td>\n",
       "      <td>https://www.yelp.com/biz/espresso-a-mano-pitts...</td>\n",
       "      <td>15201</td>\n",
       "    </tr>\n",
       "    <tr>\n",
       "      <td>3</td>\n",
       "      <td>4121 Butler St</td>\n",
       "      <td>creperies</td>\n",
       "      <td>Geppetto Cafe</td>\n",
       "      <td>4.5</td>\n",
       "      <td>FG8atOE15c8IoQH_hEb9zA</td>\n",
       "      <td>242.0</td>\n",
       "      <td>https://www.yelp.com/biz/geppetto-cafe-pittsbu...</td>\n",
       "      <td>15201</td>\n",
       "    </tr>\n",
       "    <tr>\n",
       "      <td>4</td>\n",
       "      <td>3801 Butler St</td>\n",
       "      <td>italian</td>\n",
       "      <td>Piccolo Forno</td>\n",
       "      <td>4.0</td>\n",
       "      <td>usFNFsaaHFxEbnBO4FaFHA</td>\n",
       "      <td>447.0</td>\n",
       "      <td>https://www.yelp.com/biz/piccolo-forno-pittsbu...</td>\n",
       "      <td>15201</td>\n",
       "    </tr>\n",
       "    <tr>\n",
       "      <td>...</td>\n",
       "      <td>...</td>\n",
       "      <td>...</td>\n",
       "      <td>...</td>\n",
       "      <td>...</td>\n",
       "      <td>...</td>\n",
       "      <td>...</td>\n",
       "      <td>...</td>\n",
       "      <td>...</td>\n",
       "    </tr>\n",
       "    <tr>\n",
       "      <td>2083</td>\n",
       "      <td>250 Summit Park Dr</td>\n",
       "      <td>hotdogs</td>\n",
       "      <td>McDonald's</td>\n",
       "      <td>1.0</td>\n",
       "      <td>ev4frBEgYDHiNZPcdYAIbA</td>\n",
       "      <td>4.0</td>\n",
       "      <td>https://www.yelp.com/biz/mcdonalds-pittsburgh-...</td>\n",
       "      <td>15275</td>\n",
       "    </tr>\n",
       "    <tr>\n",
       "      <td>2084</td>\n",
       "      <td>362 Three Rivers Heritage Trl</td>\n",
       "      <td>localflavor</td>\n",
       "      <td>10th Street Bridge</td>\n",
       "      <td>3.5</td>\n",
       "      <td>YsoNK7NeZY4352Z9egAQhA</td>\n",
       "      <td>2.0</td>\n",
       "      <td>https://www.yelp.com/biz/10th-street-bridge-pi...</td>\n",
       "      <td>15282</td>\n",
       "    </tr>\n",
       "    <tr>\n",
       "      <td>2085</td>\n",
       "      <td>4200 5th Ave</td>\n",
       "      <td>collegeuniv</td>\n",
       "      <td>Cathedral of Learning</td>\n",
       "      <td>4.5</td>\n",
       "      <td>1oxMj71XiKQjCbRxECzB7w</td>\n",
       "      <td>117.0</td>\n",
       "      <td>https://www.yelp.com/biz/cathedral-of-learning...</td>\n",
       "      <td>15289</td>\n",
       "    </tr>\n",
       "    <tr>\n",
       "      <td>2086</td>\n",
       "      <td>1101 Bradish St</td>\n",
       "      <td>divebars</td>\n",
       "      <td>Bar 11</td>\n",
       "      <td>4.0</td>\n",
       "      <td>coQ7N18I5maP00TbNb64nA</td>\n",
       "      <td>62.0</td>\n",
       "      <td>https://www.yelp.com/biz/bar-11-pittsburgh?adj...</td>\n",
       "      <td>15289</td>\n",
       "    </tr>\n",
       "    <tr>\n",
       "      <td>2087</td>\n",
       "      <td>1412 E Carson St</td>\n",
       "      <td>diners</td>\n",
       "      <td>O'Leary's</td>\n",
       "      <td>4.0</td>\n",
       "      <td>u2s_aIR9nBJnI4AiCpCyFQ</td>\n",
       "      <td>64.0</td>\n",
       "      <td>https://www.yelp.com/biz/o-learys-pittsburgh?a...</td>\n",
       "      <td>15289</td>\n",
       "    </tr>\n",
       "  </tbody>\n",
       "</table>\n",
       "<p>2088 rows × 8 columns</p>\n",
       "</div>"
      ],
      "text/plain": [
       "                            address     category                   name  \\\n",
       "0                    4502 Butler St   vietnamese           Banh Mi & Ti   \n",
       "1                    5202 Butler St       coffee               B52 Cafe   \n",
       "2                    3623 Butler St       coffee        Espresso a Mano   \n",
       "3                    4121 Butler St    creperies          Geppetto Cafe   \n",
       "4                    3801 Butler St      italian          Piccolo Forno   \n",
       "...                             ...          ...                    ...   \n",
       "2083             250 Summit Park Dr      hotdogs             McDonald's   \n",
       "2084  362 Three Rivers Heritage Trl  localflavor     10th Street Bridge   \n",
       "2085                   4200 5th Ave  collegeuniv  Cathedral of Learning   \n",
       "2086                1101 Bradish St     divebars                 Bar 11   \n",
       "2087               1412 E Carson St       diners              O'Leary's   \n",
       "\n",
       "      rating                  restId  review_count  \\\n",
       "0        4.5  4mYS-4UOjTKgsf0tX1_IkQ         250.0   \n",
       "1        4.5  bXCWON2Me0o86qvAb-XZPQ         258.0   \n",
       "2        4.5  Cf0iV72DTqR0ggBje2d0sg         337.0   \n",
       "3        4.5  FG8atOE15c8IoQH_hEb9zA         242.0   \n",
       "4        4.0  usFNFsaaHFxEbnBO4FaFHA         447.0   \n",
       "...      ...                     ...           ...   \n",
       "2083     1.0  ev4frBEgYDHiNZPcdYAIbA           4.0   \n",
       "2084     3.5  YsoNK7NeZY4352Z9egAQhA           2.0   \n",
       "2085     4.5  1oxMj71XiKQjCbRxECzB7w         117.0   \n",
       "2086     4.0  coQ7N18I5maP00TbNb64nA          62.0   \n",
       "2087     4.0  u2s_aIR9nBJnI4AiCpCyFQ          64.0   \n",
       "\n",
       "                                                    url  zipcode  \n",
       "0     https://www.yelp.com/biz/banh-mi-and-ti-pittsb...    15201  \n",
       "1     https://www.yelp.com/biz/b52-cafe-pittsburgh-4...    15201  \n",
       "2     https://www.yelp.com/biz/espresso-a-mano-pitts...    15201  \n",
       "3     https://www.yelp.com/biz/geppetto-cafe-pittsbu...    15201  \n",
       "4     https://www.yelp.com/biz/piccolo-forno-pittsbu...    15201  \n",
       "...                                                 ...      ...  \n",
       "2083  https://www.yelp.com/biz/mcdonalds-pittsburgh-...    15275  \n",
       "2084  https://www.yelp.com/biz/10th-street-bridge-pi...    15282  \n",
       "2085  https://www.yelp.com/biz/cathedral-of-learning...    15289  \n",
       "2086  https://www.yelp.com/biz/bar-11-pittsburgh?adj...    15289  \n",
       "2087  https://www.yelp.com/biz/o-learys-pittsburgh?a...    15289  \n",
       "\n",
       "[2088 rows x 8 columns]"
      ]
     },
     "execution_count": 66,
     "metadata": {},
     "output_type": "execute_result"
    }
   ],
   "source": [
    "pitts_rest"
   ]
  },
  {
   "cell_type": "markdown",
   "metadata": {},
   "source": [
    "Now that we have the basic information of 2,088 restaurants in Pittsburgh ready. We can dive into scraping the reviews from restaurants in Pittsburgh.<br>\n",
    "<br>\n",
    "### 2. Reviews on Restaurants\n",
    "For each restaurants, we got 5 reviews from them for further sentimental analysis."
   ]
  },
  {
   "cell_type": "code",
   "execution_count": 59,
   "metadata": {},
   "outputs": [],
   "source": [
    "# First, Recall that our target data only focus on restaurants of the 6 categories. We narrow it down to what we want.\n",
    "pitts_rest_cat = pitts_rest.loc[pitts_rest['category'].isin(['chinese','newamerican', 'mexican', 'italian', 'korean', 'japanese'])].sort_values('category').reset_index(drop = True)"
   ]
  },
  {
   "cell_type": "code",
   "execution_count": 63,
   "metadata": {},
   "outputs": [],
   "source": [
    "# Second, we will need the url of all restaurant to scrape the reviews:\n",
    "pitts_rest_url = pitts_rest_cat.loc[:, ['category', 'url', 'restId']].sort_values('category').reset_index(drop = True)"
   ]
  },
  {
   "cell_type": "code",
   "execution_count": 64,
   "metadata": {
    "scrolled": true
   },
   "outputs": [
    {
     "data": {
      "text/html": [
       "<div>\n",
       "<style scoped>\n",
       "    .dataframe tbody tr th:only-of-type {\n",
       "        vertical-align: middle;\n",
       "    }\n",
       "\n",
       "    .dataframe tbody tr th {\n",
       "        vertical-align: top;\n",
       "    }\n",
       "\n",
       "    .dataframe thead th {\n",
       "        text-align: right;\n",
       "    }\n",
       "</style>\n",
       "<table border=\"1\" class=\"dataframe\">\n",
       "  <thead>\n",
       "    <tr style=\"text-align: right;\">\n",
       "      <th></th>\n",
       "      <th>category</th>\n",
       "      <th>url</th>\n",
       "      <th>restId</th>\n",
       "    </tr>\n",
       "  </thead>\n",
       "  <tbody>\n",
       "    <tr>\n",
       "      <td>0</td>\n",
       "      <td>chinese</td>\n",
       "      <td>https://www.yelp.com/biz/amazing-wok-pittsburg...</td>\n",
       "      <td>fjE-jiwnTQysz-rLl6YMQg</td>\n",
       "    </tr>\n",
       "    <tr>\n",
       "      <td>1</td>\n",
       "      <td>chinese</td>\n",
       "      <td>https://www.yelp.com/biz/tongs-cuisine-pittsbu...</td>\n",
       "      <td>LLGGe9k7NTVy1Z2wH1_Uew</td>\n",
       "    </tr>\n",
       "    <tr>\n",
       "      <td>2</td>\n",
       "      <td>chinese</td>\n",
       "      <td>https://www.yelp.com/biz/ya-fei-pittsburgh-3?a...</td>\n",
       "      <td>iuIkzvQRb4DVWOMhE4GI3g</td>\n",
       "    </tr>\n",
       "    <tr>\n",
       "      <td>3</td>\n",
       "      <td>chinese</td>\n",
       "      <td>https://www.yelp.com/biz/china-taste-pittsburg...</td>\n",
       "      <td>O5MzWfMWDeEwkzNVeKdCfg</td>\n",
       "    </tr>\n",
       "    <tr>\n",
       "      <td>4</td>\n",
       "      <td>chinese</td>\n",
       "      <td>https://www.yelp.com/biz/yeungs-house-pittsbur...</td>\n",
       "      <td>qThJY-H6Fo8HvfdIvwrjiw</td>\n",
       "    </tr>\n",
       "    <tr>\n",
       "      <td>...</td>\n",
       "      <td>...</td>\n",
       "      <td>...</td>\n",
       "      <td>...</td>\n",
       "    </tr>\n",
       "    <tr>\n",
       "      <td>309</td>\n",
       "      <td>newamerican</td>\n",
       "      <td>https://www.yelp.com/biz/vue-412-pittsburgh?ad...</td>\n",
       "      <td>hF1-dtY_oXfngC8h2mY4qg</td>\n",
       "    </tr>\n",
       "    <tr>\n",
       "      <td>310</td>\n",
       "      <td>newamerican</td>\n",
       "      <td>https://www.yelp.com/biz/altius-pittsburgh?adj...</td>\n",
       "      <td>S8urdN6ACnRQUm-7o9An8w</td>\n",
       "    </tr>\n",
       "    <tr>\n",
       "      <td>311</td>\n",
       "      <td>newamerican</td>\n",
       "      <td>https://www.yelp.com/biz/murray-avenue-grill-p...</td>\n",
       "      <td>kT9SuRVTapbDgFGMcg1Rqg</td>\n",
       "    </tr>\n",
       "    <tr>\n",
       "      <td>312</td>\n",
       "      <td>newamerican</td>\n",
       "      <td>https://www.yelp.com/biz/silk-road-gourmet-chi...</td>\n",
       "      <td>1MrJJ9tyNyfFrxaNZ67xFg</td>\n",
       "    </tr>\n",
       "    <tr>\n",
       "      <td>313</td>\n",
       "      <td>newamerican</td>\n",
       "      <td>https://www.yelp.com/biz/keystone-restaurant-a...</td>\n",
       "      <td>iTonKZOZWC42LlQB77JpkA</td>\n",
       "    </tr>\n",
       "  </tbody>\n",
       "</table>\n",
       "<p>314 rows × 3 columns</p>\n",
       "</div>"
      ],
      "text/plain": [
       "        category                                                url  \\\n",
       "0        chinese  https://www.yelp.com/biz/amazing-wok-pittsburg...   \n",
       "1        chinese  https://www.yelp.com/biz/tongs-cuisine-pittsbu...   \n",
       "2        chinese  https://www.yelp.com/biz/ya-fei-pittsburgh-3?a...   \n",
       "3        chinese  https://www.yelp.com/biz/china-taste-pittsburg...   \n",
       "4        chinese  https://www.yelp.com/biz/yeungs-house-pittsbur...   \n",
       "..           ...                                                ...   \n",
       "309  newamerican  https://www.yelp.com/biz/vue-412-pittsburgh?ad...   \n",
       "310  newamerican  https://www.yelp.com/biz/altius-pittsburgh?adj...   \n",
       "311  newamerican  https://www.yelp.com/biz/murray-avenue-grill-p...   \n",
       "312  newamerican  https://www.yelp.com/biz/silk-road-gourmet-chi...   \n",
       "313  newamerican  https://www.yelp.com/biz/keystone-restaurant-a...   \n",
       "\n",
       "                     restId  \n",
       "0    fjE-jiwnTQysz-rLl6YMQg  \n",
       "1    LLGGe9k7NTVy1Z2wH1_Uew  \n",
       "2    iuIkzvQRb4DVWOMhE4GI3g  \n",
       "3    O5MzWfMWDeEwkzNVeKdCfg  \n",
       "4    qThJY-H6Fo8HvfdIvwrjiw  \n",
       "..                      ...  \n",
       "309  hF1-dtY_oXfngC8h2mY4qg  \n",
       "310  S8urdN6ACnRQUm-7o9An8w  \n",
       "311  kT9SuRVTapbDgFGMcg1Rqg  \n",
       "312  1MrJJ9tyNyfFrxaNZ67xFg  \n",
       "313  iTonKZOZWC42LlQB77JpkA  \n",
       "\n",
       "[314 rows x 3 columns]"
      ]
     },
     "execution_count": 64,
     "metadata": {},
     "output_type": "execute_result"
    }
   ],
   "source": [
    "pitts_rest_url"
   ]
  },
  {
   "cell_type": "code",
   "execution_count": 27,
   "metadata": {},
   "outputs": [],
   "source": [
    "# We than turn this data into a list of tuples that each tuple contains the three information so we can loop through it to get the url to scrape the reviews.\n",
    "info_list = [(row[0], row[1], row[2]) for row in pitts_rest_url.values]"
   ]
  },
  {
   "cell_type": "code",
   "execution_count": 31,
   "metadata": {},
   "outputs": [
    {
     "data": {
      "text/plain": [
       "('chinese',\n",
       " 'https://www.yelp.com/biz/amazing-wok-pittsburgh?adjust_creative=E2BH6jna89195oC1_AjHXw&utm_campaign=yelp_api_v3&utm_medium=api_v3_business_search&utm_source=E2BH6jna89195oC1_AjHXw',\n",
       " 'fjE-jiwnTQysz-rLl6YMQg')"
      ]
     },
     "execution_count": 31,
     "metadata": {},
     "output_type": "execute_result"
    }
   ],
   "source": [
    "# The structure of each tuple would look like the following example.\n",
    "info_list[0]"
   ]
  },
  {
   "cell_type": "markdown",
   "metadata": {},
   "source": [
    "Here we modified the previous code of HW1 and again store our data into a new DataFrame."
   ]
  },
  {
   "cell_type": "code",
   "execution_count": 26,
   "metadata": {},
   "outputs": [],
   "source": [
    "def extract_reviews(info_list, df):\n",
    "    \"\"\"\n",
    "    Retrieve ALL of the reviews for a single restaurant on Yelp.\n",
    "\n",
    "    Parameters:\n",
    "        url (string): Yelp URL corresponding to the restaurant of interest.\n",
    "        df (DataFrame): a DataFrame to store the records\n",
    "\n",
    "    Returns:\n",
    "        reviews (list): list of dictionaries containing extracted review information\n",
    "    \"\"\"\n",
    "    response = requests.get(info_list[1])\n",
    "    soup = BeautifulSoup(response.text, \"html.parser\")\n",
    "    block = soup.find_all('div', {'itemprop':'review'})\n",
    "    # We only want to get the first 5 records of the reviews\n",
    "    # First check if the restaurant have more than five reviews\n",
    "    if len(block) >= 5:\n",
    "        for record in block[:5]:\n",
    "            # get the rating\n",
    "            rating = float(record.find('meta', {'itemprop': 'ratingValue'})['content'])\n",
    "            # get the comment(review)\n",
    "            description = record.find('p', {'itemprop': 'description'}).text.strip()\n",
    "            # append to DataFrame\n",
    "            df = df.append({'restId':info_list[2], 'type': info_list[0], 'rating':rating, 'text':description}, ignore_index=True)\n",
    "    else:\n",
    "        # if the restaurant have less than 5 records of review, store all of them into the DataFrame\n",
    "        for record in block:\n",
    "            rating = float(record.find('meta', {'itemprop': 'ratingValue'})['content'])\n",
    "            description = record.find('p', {'itemprop': 'description'}).text.strip()\n",
    "            df = df.append({'restId':info_list[2], 'type': info_list[0], 'rating':rating, 'text':description}, ignore_index=True)\n",
    "    time.sleep(0.2)\n",
    "    return df"
   ]
  },
  {
   "cell_type": "code",
   "execution_count": 32,
   "metadata": {},
   "outputs": [
    {
     "data": {
      "application/vnd.jupyter.widget-view+json": {
       "model_id": "27c3f9fa4102494daa92129f295b423b",
       "version_major": 2,
       "version_minor": 0
      },
      "text/plain": [
       "HBox(children=(IntProgress(value=0, max=314), HTML(value='')))"
      ]
     },
     "metadata": {},
     "output_type": "display_data"
    },
    {
     "name": "stdout",
     "output_type": "stream",
     "text": [
      "\n"
     ]
    }
   ],
   "source": [
    "pitts_review = pd.DataFrame()\n",
    "for item in tqdm_notebook(info_list):\n",
    "    pitts_review = extract_reviews(item, pitts_review)"
   ]
  },
  {
   "cell_type": "markdown",
   "metadata": {},
   "source": [
    "Again, since it take about half an hour to collect all the reviews data, we provide the csv file on the [google drive](https://drive.google.com/open?id=1Y_wH4BO-NgCcRV2_PD8zgSxzW5ZcV_2m)."
   ]
  },
  {
   "cell_type": "code",
   "execution_count": 69,
   "metadata": {},
   "outputs": [],
   "source": [
    "pitts_review = pd.read_csv(\"pitts_review.csv\", index_col=0)"
   ]
  },
  {
   "cell_type": "code",
   "execution_count": 70,
   "metadata": {},
   "outputs": [
    {
     "data": {
      "text/html": [
       "<div>\n",
       "<style scoped>\n",
       "    .dataframe tbody tr th:only-of-type {\n",
       "        vertical-align: middle;\n",
       "    }\n",
       "\n",
       "    .dataframe tbody tr th {\n",
       "        vertical-align: top;\n",
       "    }\n",
       "\n",
       "    .dataframe thead th {\n",
       "        text-align: right;\n",
       "    }\n",
       "</style>\n",
       "<table border=\"1\" class=\"dataframe\">\n",
       "  <thead>\n",
       "    <tr style=\"text-align: right;\">\n",
       "      <th></th>\n",
       "      <th>rating</th>\n",
       "      <th>restId</th>\n",
       "      <th>text</th>\n",
       "      <th>type</th>\n",
       "    </tr>\n",
       "  </thead>\n",
       "  <tbody>\n",
       "    <tr>\n",
       "      <td>0</td>\n",
       "      <td>5.0</td>\n",
       "      <td>JJi7c7uiTzCqeWNTsldgXQ</td>\n",
       "      <td>It's been far too long since I've come here. T...</td>\n",
       "      <td>chinese</td>\n",
       "    </tr>\n",
       "    <tr>\n",
       "      <td>1</td>\n",
       "      <td>5.0</td>\n",
       "      <td>JJi7c7uiTzCqeWNTsldgXQ</td>\n",
       "      <td>My husband and I decided to give this place a ...</td>\n",
       "      <td>chinese</td>\n",
       "    </tr>\n",
       "    <tr>\n",
       "      <td>2</td>\n",
       "      <td>5.0</td>\n",
       "      <td>JJi7c7uiTzCqeWNTsldgXQ</td>\n",
       "      <td>This is good place to have Chinese food in thi...</td>\n",
       "      <td>chinese</td>\n",
       "    </tr>\n",
       "    <tr>\n",
       "      <td>3</td>\n",
       "      <td>4.0</td>\n",
       "      <td>JJi7c7uiTzCqeWNTsldgXQ</td>\n",
       "      <td>Oh, maybe I ordered wrong. Or this was the mos...</td>\n",
       "      <td>chinese</td>\n",
       "    </tr>\n",
       "    <tr>\n",
       "      <td>4</td>\n",
       "      <td>5.0</td>\n",
       "      <td>JJi7c7uiTzCqeWNTsldgXQ</td>\n",
       "      <td>We are new to the area and got some take out f...</td>\n",
       "      <td>chinese</td>\n",
       "    </tr>\n",
       "    <tr>\n",
       "      <td>...</td>\n",
       "      <td>...</td>\n",
       "      <td>...</td>\n",
       "      <td>...</td>\n",
       "      <td>...</td>\n",
       "    </tr>\n",
       "    <tr>\n",
       "      <td>1547</td>\n",
       "      <td>3.0</td>\n",
       "      <td>z4EIzLJlGd7gyje1Q_hKtw</td>\n",
       "      <td>Smallman Galley is one of my favorite places i...</td>\n",
       "      <td>newamerican</td>\n",
       "    </tr>\n",
       "    <tr>\n",
       "      <td>1548</td>\n",
       "      <td>5.0</td>\n",
       "      <td>z4EIzLJlGd7gyje1Q_hKtw</td>\n",
       "      <td>My husband and I love federal galley. This is ...</td>\n",
       "      <td>newamerican</td>\n",
       "    </tr>\n",
       "    <tr>\n",
       "      <td>1549</td>\n",
       "      <td>5.0</td>\n",
       "      <td>z4EIzLJlGd7gyje1Q_hKtw</td>\n",
       "      <td>Great lunch visit for all to this bustling foo...</td>\n",
       "      <td>newamerican</td>\n",
       "    </tr>\n",
       "    <tr>\n",
       "      <td>1550</td>\n",
       "      <td>5.0</td>\n",
       "      <td>iTonKZOZWC42LlQB77JpkA</td>\n",
       "      <td>This is a great LITTLE bar/restaurant!\\n\\nIt i...</td>\n",
       "      <td>newamerican</td>\n",
       "    </tr>\n",
       "    <tr>\n",
       "      <td>1551</td>\n",
       "      <td>4.0</td>\n",
       "      <td>iTonKZOZWC42LlQB77JpkA</td>\n",
       "      <td>I was super hesitant when the front desk girl ...</td>\n",
       "      <td>newamerican</td>\n",
       "    </tr>\n",
       "  </tbody>\n",
       "</table>\n",
       "<p>1552 rows × 4 columns</p>\n",
       "</div>"
      ],
      "text/plain": [
       "      rating                  restId  \\\n",
       "0        5.0  JJi7c7uiTzCqeWNTsldgXQ   \n",
       "1        5.0  JJi7c7uiTzCqeWNTsldgXQ   \n",
       "2        5.0  JJi7c7uiTzCqeWNTsldgXQ   \n",
       "3        4.0  JJi7c7uiTzCqeWNTsldgXQ   \n",
       "4        5.0  JJi7c7uiTzCqeWNTsldgXQ   \n",
       "...      ...                     ...   \n",
       "1547     3.0  z4EIzLJlGd7gyje1Q_hKtw   \n",
       "1548     5.0  z4EIzLJlGd7gyje1Q_hKtw   \n",
       "1549     5.0  z4EIzLJlGd7gyje1Q_hKtw   \n",
       "1550     5.0  iTonKZOZWC42LlQB77JpkA   \n",
       "1551     4.0  iTonKZOZWC42LlQB77JpkA   \n",
       "\n",
       "                                                   text         type  \n",
       "0     It's been far too long since I've come here. T...      chinese  \n",
       "1     My husband and I decided to give this place a ...      chinese  \n",
       "2     This is good place to have Chinese food in thi...      chinese  \n",
       "3     Oh, maybe I ordered wrong. Or this was the mos...      chinese  \n",
       "4     We are new to the area and got some take out f...      chinese  \n",
       "...                                                 ...          ...  \n",
       "1547  Smallman Galley is one of my favorite places i...  newamerican  \n",
       "1548  My husband and I love federal galley. This is ...  newamerican  \n",
       "1549  Great lunch visit for all to this bustling foo...  newamerican  \n",
       "1550  This is a great LITTLE bar/restaurant!\\n\\nIt i...  newamerican  \n",
       "1551  I was super hesitant when the front desk girl ...  newamerican  \n",
       "\n",
       "[1552 rows x 4 columns]"
      ]
     },
     "execution_count": 70,
     "metadata": {},
     "output_type": "execute_result"
    }
   ],
   "source": [
    "# Here is another quick peek on the DataFrame of all reviews:\n",
    "pitts_review"
   ]
  },
  {
   "cell_type": "markdown",
   "metadata": {},
   "source": [
    "## Exploratory Data Analysis\n"
   ]
  },
  {
   "cell_type": "markdown",
   "metadata": {},
   "source": [
    "### 1. Overall rating distributions of different types of restaurants\n",
    "\n",
    "Given the restaurant dataset, we first explored the distribution of overall ratings across six types of restaurants we are interested in."
   ]
  },
  {
   "cell_type": "code",
   "execution_count": 49,
   "metadata": {},
   "outputs": [
    {
     "data": {
      "text/plain": [
       "[Text(0, 0, 'Chinese'),\n",
       " Text(0, 0, 'Korean'),\n",
       " Text(0, 0, 'Japanese'),\n",
       " Text(0, 0, 'Italian'),\n",
       " Text(0, 0, 'Mexican'),\n",
       " Text(0, 0, 'New American')]"
      ]
     },
     "execution_count": 49,
     "metadata": {},
     "output_type": "execute_result"
    },
    {
     "data": {
      "image/png": "[encoded data removed]",
      "text/plain": [
       "<Figure size 648x432 with 1 Axes>"
      ]
     },
     "metadata": {
      "needs_background": "light"
     },
     "output_type": "display_data"
    }
   ],
   "source": [
    "l_chinese = pitts_rest[pitts_rest.category == \"chinese\"].rating\n",
    "l_korean = pitts_rest[pitts_rest.category == \"korean\"].rating\n",
    "l_japanese = pitts_rest[pitts_rest.category == \"japanese\"].rating\n",
    "l_italian = pitts_rest[pitts_rest.category == \"italian\"].rating\n",
    "l_mexican = pitts_rest[pitts_rest.category == \"mexican\"].rating\n",
    "l_newamerican = pitts_rest[pitts_rest.category == \"newamerican\"].rating\n",
    "l = [l_chinese,l_korean,l_japanese,l_italian,l_mexican,l_newamerican]\n",
    "fig = plt.figure(1, figsize=(9, 6))\n",
    "# Create an axes instance\n",
    "ax = fig.add_subplot(111)\n",
    "# Create the boxplot\n",
    "bp = ax.boxplot(l)\n",
    "ax.set_xticklabels(['Chinese', 'Korean', 'Japanese', 'Italian','Mexican','New American'])"
   ]
  },
  {
   "cell_type": "markdown",
   "metadata": {},
   "source": [
    "From the graph, we can see that the median of overall ratings for Korean restaurants is the highest among all six types of restaurants. We can also notice that the range of ratings for Chiense and Mexican restaurants are the largest among all six types of restaurants."
   ]
  },
  {
   "cell_type": "markdown",
   "metadata": {},
   "source": [
    "### 2. Word cloud of reviews by cuisine"
   ]
  },
  {
   "cell_type": "markdown",
   "metadata": {},
   "source": [
    "### Word Cloud\n",
    "A Wordcloud (or Tag cloud) is a visual representation of text data. It displays a list of words, the importance of each beeing shown with font size or color. \n",
    "\n",
    "Using wordcloud, we displayed the most frequently mentioned words in reviews of different types of restaurants."
   ]
  },
  {
   "cell_type": "code",
   "execution_count": null,
   "metadata": {},
   "outputs": [],
   "source": [
    "#  You can install WordCloud using `pip`:\n",
    "! pip install wordcloud"
   ]
  },
  {
   "cell_type": "code",
   "execution_count": 38,
   "metadata": {},
   "outputs": [],
   "source": [
    "from wordcloud import WordCloud\n",
    "\n",
    "# categorize out reviews based on the type of the restaurant\n",
    "Chinese = \" \".join(pitts_review[pitts_review.type == \"chinese\"].text)\n",
    "Korean = \" \".join(pitts_review[pitts_review.type == \"korean\"].text)\n",
    "Italian = \" \".join(pitts_review[pitts_review.type == \"italian\"].text)\n",
    "Japanese = \" \".join(pitts_review[pitts_review.type == \"japanese\"].text)\n",
    "Mexican = \" \".join(pitts_review[pitts_review.type == \"mexican\"].text)\n",
    "Newamerican = \" \".join(pitts_review[pitts_review.type == \"newamerican\"].text)"
   ]
  },
  {
   "cell_type": "code",
   "execution_count": 39,
   "metadata": {},
   "outputs": [
    {
     "data": {
      "image/png": "[encoded data removed]",
      "text/plain": [
       "<Figure size 432x288 with 1 Axes>"
      ]
     },
     "metadata": {
      "needs_background": "light"
     },
     "output_type": "display_data"
    }
   ],
   "source": [
    "# generating word cloud of reviews for Chinese restaurants\n",
    "Chinese_wc = WordCloud(background_color=\"black\", width=600, height=400, max_words=60).generate(Chinese)\n",
    "plt.imshow(Chinese_wc)\n",
    "plt.axis(\"off\")\n",
    "plt.show()"
   ]
  },
  {
   "cell_type": "code",
   "execution_count": 40,
   "metadata": {},
   "outputs": [
    {
     "data": {
      "image/png": "[encoded data removed]",
      "text/plain": [
       "<Figure size 432x288 with 1 Axes>"
      ]
     },
     "metadata": {
      "needs_background": "light"
     },
     "output_type": "display_data"
    }
   ],
   "source": [
    "# generating word cloud of reviews for Italian restaurants\n",
    "Italian_wc = WordCloud(background_color=\"black\", width=600, height=400, max_words=60).generate(Italian)\n",
    "plt.imshow(Italian_wc)\n",
    "plt.axis(\"off\")\n",
    "plt.show()"
   ]
  },
  {
   "cell_type": "code",
   "execution_count": 41,
   "metadata": {},
   "outputs": [
    {
     "data": {
      "image/png": "[encoded data removed]",
      "text/plain": [
       "<Figure size 432x288 with 1 Axes>"
      ]
     },
     "metadata": {
      "needs_background": "light"
     },
     "output_type": "display_data"
    }
   ],
   "source": [
    "# generating word cloud of reviews for Italian restaurants\n",
    "Italian_wc = WordCloud(background_color=\"black\", width=600, height=400, max_words=60).generate(Italian)\n",
    "plt.imshow(Italian_wc)\n",
    "plt.axis(\"off\")\n",
    "plt.show()"
   ]
  },
  {
   "cell_type": "code",
   "execution_count": 42,
   "metadata": {},
   "outputs": [
    {
     "data": {
      "image/png": "[encoded data removed]",
      "text/plain": [
       "<Figure size 432x288 with 1 Axes>"
      ]
     },
     "metadata": {
      "needs_background": "light"
     },
     "output_type": "display_data"
    }
   ],
   "source": [
    "# generating word cloud of reviews for Japanese restaurants\n",
    "Japanese_wc = WordCloud(background_color=\"black\", width=600, height=400, max_words=60).generate(Japanese)\n",
    "plt.imshow(Japanese_wc)\n",
    "plt.axis(\"off\")\n",
    "plt.show()"
   ]
  },
  {
   "cell_type": "code",
   "execution_count": 43,
   "metadata": {},
   "outputs": [
    {
     "data": {
      "image/png": "[encoded data removed]",
      "text/plain": [
       "<Figure size 432x288 with 1 Axes>"
      ]
     },
     "metadata": {
      "needs_background": "light"
     },
     "output_type": "display_data"
    }
   ],
   "source": [
    "# generating word cloud of reviews for Mexican restaurants\n",
    "Mexican_wc = WordCloud(background_color=\"black\", width=600, height=400, max_words=60).generate(Mexican)\n",
    "plt.imshow(Mexican_wc)\n",
    "plt.axis(\"off\")\n",
    "plt.show()"
   ]
  },
  {
   "cell_type": "code",
   "execution_count": 44,
   "metadata": {},
   "outputs": [
    {
     "data": {
      "image/png": "[encoded data removed]",
      "text/plain": [
       "<Figure size 432x288 with 1 Axes>"
      ]
     },
     "metadata": {
      "needs_background": "light"
     },
     "output_type": "display_data"
    }
   ],
   "source": [
    "# generating word cloud of reviews for New American restaurants\n",
    "Newamerican_wc = WordCloud(background_color=\"black\", width=600, height=400, max_words=60).generate(Newamerican)\n",
    "plt.imshow(Newamerican_wc)\n",
    "plt.axis(\"off\")\n",
    "plt.show()"
   ]
  },
  {
   "cell_type": "markdown",
   "metadata": {},
   "source": [
    "From the wordcloud graphs, here are the frequently mentioned words:\n",
    "- Chinese: chicken, egg rolls, general Tso, shrimp, beef, noodles\n",
    "- Korean: bowl, side, rice, pork, spicy, kimchi, dumplings, bulgogi\n",
    "- Italian: pasta, salad, pizza, bread, meatball, cheese, chicken\n",
    "- Japanese: Sushi, roll, hibachi, rice, chicken, noodles\n",
    "- Mexican: taco, salsa, burrito, chip, quesadilla, cheese, margarita, fajitas, chicken\n",
    "- New American: fries, burger, bar, side, sandwich, dessert, chicken, salad"
   ]
  },
  {
   "cell_type": "markdown",
   "metadata": {},
   "source": [
    "## Sentimental Analysis on Reviews"
   ]
  },
  {
   "cell_type": "markdown",
   "metadata": {},
   "source": [
    "When sharing their opintions on a restaurant, the Yelp user not only writes something (i.e. the review text) but also gives a rating from 1 star to 5 stars. Some people tend to write something bad but give a relative fine score while some people tend to write something good but just give a low rating. We want to explore whether this kind of tendency is the same among different cuisine categories. <b>Are people harsher to a certain cuisine?</b>"
   ]
  },
  {
   "cell_type": "markdown",
   "metadata": {},
   "source": [
    "### 1. Sentimental score\n",
    "To extract the feelings or emotions in the review text, we applied sentimental analysis to assign a sentimental score to each review. The sentimental score is actually the the probability that the review text is positive. We used an open Python library named `TextBlob` to help the analysis."
   ]
  },
  {
   "cell_type": "markdown",
   "metadata": {},
   "source": [
    "#### Library installation\n",
    "`TextBlob` is a Natural Language Processing Python library. It is built on `nltk` and good at Sentiment Extraction with some well-trained models for use. We need install the library as well as its corpus."
   ]
  },
  {
   "cell_type": "code",
   "execution_count": null,
   "metadata": {},
   "outputs": [],
   "source": [
    "# install the library and its corpus\n",
    "! pip install textblob\n",
    "! python -m textblob.download_corpora"
   ]
  },
  {
   "cell_type": "code",
   "execution_count": 75,
   "metadata": {},
   "outputs": [],
   "source": [
    "from textblob import TextBlob\n",
    "from textblob.sentiments import NaiveBayesAnalyzer"
   ]
  },
  {
   "cell_type": "markdown",
   "metadata": {},
   "source": [
    "#### Example of `TextBlob`\n",
    "Here is a begining sample of the sentiment extraction function of `TextBlob`. It analyzes the text and gives the probability that the text is positive or negative.\n",
    "\n",
    "The `NaiveBayesAnalyzer` is trained on the movie reviews data from `nltk`. We chose it because of its high performance resulted from the obvious similarity between movie reviews and restaurant reviews. Behind the `NaiveBayesAnalyzer`, it tokenizes, filters, and extracts features of the words and then uses `NaiveBayesClassifier` of `nltk` to classify."
   ]
  },
  {
   "cell_type": "code",
   "execution_count": 76,
   "metadata": {},
   "outputs": [
    {
     "data": {
      "text/plain": [
       "'This is good place to have Chinese food in this area, clean inside and excellent service. I like their duck especially!'"
      ]
     },
     "execution_count": 76,
     "metadata": {},
     "output_type": "execute_result"
    }
   ],
   "source": [
    "text = pitts_review[\"text\"][2]\n",
    "text"
   ]
  },
  {
   "cell_type": "code",
   "execution_count": 77,
   "metadata": {},
   "outputs": [
    {
     "data": {
      "text/plain": [
       "Sentiment(classification='pos', p_pos=0.9459500238217358, p_neg=0.054049976178265596)"
      ]
     },
     "execution_count": 77,
     "metadata": {},
     "output_type": "execute_result"
    }
   ],
   "source": [
    "# cited from: https://textblob.readthedocs.io/en/dev/index.html#\n",
    "tb = TextBlob(text, analyzer = NaiveBayesAnalyzer())\n",
    "tb.sentiment"
   ]
  },
  {
   "cell_type": "markdown",
   "metadata": {},
   "source": [
    "#### `TextBlob` on review text\n",
    "With `TextBlob`, we can get the sentimental scores for each review."
   ]
  },
  {
   "cell_type": "code",
   "execution_count": 78,
   "metadata": {},
   "outputs": [],
   "source": [
    "# Create two new columns for the dataframe\n",
    "pitts_review[\"positive_score\"] = 0.0\n",
    "pitts_review[\"negative_score\"] = 0.0"
   ]
  },
  {
   "cell_type": "code",
   "execution_count": 79,
   "metadata": {},
   "outputs": [],
   "source": [
    "def sentimental_scores(reviews, analyzer = NaiveBayesAnalyzer()):\n",
    "    \"\"\"\n",
    "    Calculate the probability of the text is positive or negative as the sentimental scores for each row in the reviews dataframe\n",
    "\n",
    "    Args:\n",
    "        reviews (DataFrame): reviews data, each row is a review\n",
    "        analyzer: the analyzer model used by TextBlob; by default, it uses Naive Bayes Analyzer      \n",
    "    Returns:\n",
    "        reviews (DataFrame): to display the new dataframe which is created two new columns for positive score and negative score calculated by the model; \n",
    "    \"\"\"\n",
    "    for i in range(0,len(reviews)):\n",
    "        # cited from: https://textblob.readthedocs.io/en/dev/index.html#\n",
    "        t = TextBlob(reviews.loc[i,\"text\"], analyzer = analyzer)\n",
    "        senti = t.sentiment\n",
    "        \n",
    "        reviews.loc[i,\"positive_score\"] = senti.p_pos\n",
    "        reviews.loc[i,\"negative_score\"] = senti.p_neg \n",
    "    \n",
    "    return reviews"
   ]
  },
  {
   "cell_type": "code",
   "execution_count": 81,
   "metadata": {},
   "outputs": [
    {
     "data": {
      "text/html": [
       "<div>\n",
       "<style scoped>\n",
       "    .dataframe tbody tr th:only-of-type {\n",
       "        vertical-align: middle;\n",
       "    }\n",
       "\n",
       "    .dataframe tbody tr th {\n",
       "        vertical-align: top;\n",
       "    }\n",
       "\n",
       "    .dataframe thead th {\n",
       "        text-align: right;\n",
       "    }\n",
       "</style>\n",
       "<table border=\"1\" class=\"dataframe\">\n",
       "  <thead>\n",
       "    <tr style=\"text-align: right;\">\n",
       "      <th></th>\n",
       "      <th>rating</th>\n",
       "      <th>restId</th>\n",
       "      <th>text</th>\n",
       "      <th>type</th>\n",
       "      <th>positive_score</th>\n",
       "      <th>negative_score</th>\n",
       "    </tr>\n",
       "  </thead>\n",
       "  <tbody>\n",
       "    <tr>\n",
       "      <td>0</td>\n",
       "      <td>5.0</td>\n",
       "      <td>JJi7c7uiTzCqeWNTsldgXQ</td>\n",
       "      <td>It's been far too long since I've come here. T...</td>\n",
       "      <td>chinese</td>\n",
       "      <td>0.999998</td>\n",
       "      <td>2.370124e-06</td>\n",
       "    </tr>\n",
       "    <tr>\n",
       "      <td>1</td>\n",
       "      <td>5.0</td>\n",
       "      <td>JJi7c7uiTzCqeWNTsldgXQ</td>\n",
       "      <td>My husband and I decided to give this place a ...</td>\n",
       "      <td>chinese</td>\n",
       "      <td>0.696951</td>\n",
       "      <td>3.030491e-01</td>\n",
       "    </tr>\n",
       "    <tr>\n",
       "      <td>2</td>\n",
       "      <td>5.0</td>\n",
       "      <td>JJi7c7uiTzCqeWNTsldgXQ</td>\n",
       "      <td>This is good place to have Chinese food in thi...</td>\n",
       "      <td>chinese</td>\n",
       "      <td>0.945950</td>\n",
       "      <td>5.404998e-02</td>\n",
       "    </tr>\n",
       "    <tr>\n",
       "      <td>3</td>\n",
       "      <td>4.0</td>\n",
       "      <td>JJi7c7uiTzCqeWNTsldgXQ</td>\n",
       "      <td>Oh, maybe I ordered wrong. Or this was the mos...</td>\n",
       "      <td>chinese</td>\n",
       "      <td>0.502963</td>\n",
       "      <td>4.970375e-01</td>\n",
       "    </tr>\n",
       "    <tr>\n",
       "      <td>4</td>\n",
       "      <td>5.0</td>\n",
       "      <td>JJi7c7uiTzCqeWNTsldgXQ</td>\n",
       "      <td>We are new to the area and got some take out f...</td>\n",
       "      <td>chinese</td>\n",
       "      <td>0.902847</td>\n",
       "      <td>9.715285e-02</td>\n",
       "    </tr>\n",
       "    <tr>\n",
       "      <td>...</td>\n",
       "      <td>...</td>\n",
       "      <td>...</td>\n",
       "      <td>...</td>\n",
       "      <td>...</td>\n",
       "      <td>...</td>\n",
       "      <td>...</td>\n",
       "    </tr>\n",
       "    <tr>\n",
       "      <td>1547</td>\n",
       "      <td>3.0</td>\n",
       "      <td>z4EIzLJlGd7gyje1Q_hKtw</td>\n",
       "      <td>Smallman Galley is one of my favorite places i...</td>\n",
       "      <td>newamerican</td>\n",
       "      <td>1.000000</td>\n",
       "      <td>3.047489e-12</td>\n",
       "    </tr>\n",
       "    <tr>\n",
       "      <td>1548</td>\n",
       "      <td>5.0</td>\n",
       "      <td>z4EIzLJlGd7gyje1Q_hKtw</td>\n",
       "      <td>My husband and I love federal galley. This is ...</td>\n",
       "      <td>newamerican</td>\n",
       "      <td>0.949620</td>\n",
       "      <td>5.037985e-02</td>\n",
       "    </tr>\n",
       "    <tr>\n",
       "      <td>1549</td>\n",
       "      <td>5.0</td>\n",
       "      <td>z4EIzLJlGd7gyje1Q_hKtw</td>\n",
       "      <td>Great lunch visit for all to this bustling foo...</td>\n",
       "      <td>newamerican</td>\n",
       "      <td>0.992826</td>\n",
       "      <td>7.174252e-03</td>\n",
       "    </tr>\n",
       "    <tr>\n",
       "      <td>1550</td>\n",
       "      <td>5.0</td>\n",
       "      <td>iTonKZOZWC42LlQB77JpkA</td>\n",
       "      <td>This is a great LITTLE bar/restaurant!\\n\\nIt i...</td>\n",
       "      <td>newamerican</td>\n",
       "      <td>0.941640</td>\n",
       "      <td>5.836005e-02</td>\n",
       "    </tr>\n",
       "    <tr>\n",
       "      <td>1551</td>\n",
       "      <td>4.0</td>\n",
       "      <td>iTonKZOZWC42LlQB77JpkA</td>\n",
       "      <td>I was super hesitant when the front desk girl ...</td>\n",
       "      <td>newamerican</td>\n",
       "      <td>0.143557</td>\n",
       "      <td>8.564432e-01</td>\n",
       "    </tr>\n",
       "  </tbody>\n",
       "</table>\n",
       "<p>1552 rows × 6 columns</p>\n",
       "</div>"
      ],
      "text/plain": [
       "      rating                  restId  \\\n",
       "0        5.0  JJi7c7uiTzCqeWNTsldgXQ   \n",
       "1        5.0  JJi7c7uiTzCqeWNTsldgXQ   \n",
       "2        5.0  JJi7c7uiTzCqeWNTsldgXQ   \n",
       "3        4.0  JJi7c7uiTzCqeWNTsldgXQ   \n",
       "4        5.0  JJi7c7uiTzCqeWNTsldgXQ   \n",
       "...      ...                     ...   \n",
       "1547     3.0  z4EIzLJlGd7gyje1Q_hKtw   \n",
       "1548     5.0  z4EIzLJlGd7gyje1Q_hKtw   \n",
       "1549     5.0  z4EIzLJlGd7gyje1Q_hKtw   \n",
       "1550     5.0  iTonKZOZWC42LlQB77JpkA   \n",
       "1551     4.0  iTonKZOZWC42LlQB77JpkA   \n",
       "\n",
       "                                                   text         type  \\\n",
       "0     It's been far too long since I've come here. T...      chinese   \n",
       "1     My husband and I decided to give this place a ...      chinese   \n",
       "2     This is good place to have Chinese food in thi...      chinese   \n",
       "3     Oh, maybe I ordered wrong. Or this was the mos...      chinese   \n",
       "4     We are new to the area and got some take out f...      chinese   \n",
       "...                                                 ...          ...   \n",
       "1547  Smallman Galley is one of my favorite places i...  newamerican   \n",
       "1548  My husband and I love federal galley. This is ...  newamerican   \n",
       "1549  Great lunch visit for all to this bustling foo...  newamerican   \n",
       "1550  This is a great LITTLE bar/restaurant!\\n\\nIt i...  newamerican   \n",
       "1551  I was super hesitant when the front desk girl ...  newamerican   \n",
       "\n",
       "      positive_score  negative_score  \n",
       "0           0.999998    2.370124e-06  \n",
       "1           0.696951    3.030491e-01  \n",
       "2           0.945950    5.404998e-02  \n",
       "3           0.502963    4.970375e-01  \n",
       "4           0.902847    9.715285e-02  \n",
       "...              ...             ...  \n",
       "1547        1.000000    3.047489e-12  \n",
       "1548        0.949620    5.037985e-02  \n",
       "1549        0.992826    7.174252e-03  \n",
       "1550        0.941640    5.836005e-02  \n",
       "1551        0.143557    8.564432e-01  \n",
       "\n",
       "[1552 rows x 6 columns]"
      ]
     },
     "execution_count": 81,
     "metadata": {},
     "output_type": "execute_result"
    }
   ],
   "source": [
    "reviews = sentimental_scores(pitts_review)\n",
    "reviews"
   ]
  },
  {
   "cell_type": "markdown",
   "metadata": {},
   "source": [
    "### 2. Sentimental Score for different cuisine categories\n",
    "Given the sentimental scores produced from the review texts, we can compare them among different cuisine categories and investigate whether people apply different criteria when rating.\n",
    "\n",
    "#### Mean sentimental socres\n",
    "First, we summarized the data by cuisine category and visualized the data to have a general idea."
   ]
  },
  {
   "cell_type": "code",
   "execution_count": 82,
   "metadata": {},
   "outputs": [
    {
     "data": {
      "text/html": [
       "<div>\n",
       "<style scoped>\n",
       "    .dataframe tbody tr th:only-of-type {\n",
       "        vertical-align: middle;\n",
       "    }\n",
       "\n",
       "    .dataframe tbody tr th {\n",
       "        vertical-align: top;\n",
       "    }\n",
       "\n",
       "    .dataframe thead th {\n",
       "        text-align: right;\n",
       "    }\n",
       "</style>\n",
       "<table border=\"1\" class=\"dataframe\">\n",
       "  <thead>\n",
       "    <tr style=\"text-align: right;\">\n",
       "      <th></th>\n",
       "      <th>rating</th>\n",
       "      <th>positive_score</th>\n",
       "      <th>negative_score</th>\n",
       "    </tr>\n",
       "    <tr>\n",
       "      <th>type</th>\n",
       "      <th></th>\n",
       "      <th></th>\n",
       "      <th></th>\n",
       "    </tr>\n",
       "  </thead>\n",
       "  <tbody>\n",
       "    <tr>\n",
       "      <td>chinese</td>\n",
       "      <td>3.433846</td>\n",
       "      <td>0.767375</td>\n",
       "      <td>0.232625</td>\n",
       "    </tr>\n",
       "    <tr>\n",
       "      <td>italian</td>\n",
       "      <td>3.753351</td>\n",
       "      <td>0.864170</td>\n",
       "      <td>0.135830</td>\n",
       "    </tr>\n",
       "    <tr>\n",
       "      <td>japanese</td>\n",
       "      <td>3.812500</td>\n",
       "      <td>0.792091</td>\n",
       "      <td>0.207909</td>\n",
       "    </tr>\n",
       "    <tr>\n",
       "      <td>korean</td>\n",
       "      <td>4.114286</td>\n",
       "      <td>0.855282</td>\n",
       "      <td>0.144718</td>\n",
       "    </tr>\n",
       "    <tr>\n",
       "      <td>mexican</td>\n",
       "      <td>3.429630</td>\n",
       "      <td>0.735627</td>\n",
       "      <td>0.264373</td>\n",
       "    </tr>\n",
       "    <tr>\n",
       "      <td>newamerican</td>\n",
       "      <td>3.848614</td>\n",
       "      <td>0.806903</td>\n",
       "      <td>0.193097</td>\n",
       "    </tr>\n",
       "  </tbody>\n",
       "</table>\n",
       "</div>"
      ],
      "text/plain": [
       "               rating  positive_score  negative_score\n",
       "type                                                 \n",
       "chinese      3.433846        0.767375        0.232625\n",
       "italian      3.753351        0.864170        0.135830\n",
       "japanese     3.812500        0.792091        0.207909\n",
       "korean       4.114286        0.855282        0.144718\n",
       "mexican      3.429630        0.735627        0.264373\n",
       "newamerican  3.848614        0.806903        0.193097"
      ]
     },
     "execution_count": 82,
     "metadata": {},
     "output_type": "execute_result"
    }
   ],
   "source": [
    "meanByCate = reviews.groupby(\"type\").mean()\n",
    "meanByCate"
   ]
  },
  {
   "cell_type": "code",
   "execution_count": 83,
   "metadata": {},
   "outputs": [
    {
     "data": {
      "text/plain": [
       "['chinese', 'italian', 'japanese', 'korean', 'mexican', 'newamerican']"
      ]
     },
     "execution_count": 83,
     "metadata": {},
     "output_type": "execute_result"
    }
   ],
   "source": [
    "# Cuisine category list\n",
    "types = reviews[\"type\"].unique().tolist()\n",
    "types"
   ]
  },
  {
   "cell_type": "code",
   "execution_count": 84,
   "metadata": {},
   "outputs": [
    {
     "data": {
      "text/plain": [
       "Text(0.5, 1.0, 'Mean for cuisine')"
      ]
     },
     "execution_count": 84,
     "metadata": {},
     "output_type": "execute_result"
    },
    {
     "data": {
      "image/png": "[encoded data removed]",
      "text/plain": [
       "<Figure size 432x288 with 1 Axes>"
      ]
     },
     "metadata": {},
     "output_type": "display_data"
    }
   ],
   "source": [
    "plt.bar(types, meanByCate['rating'])\n",
    "plt.bar(types, meanByCate['positive_score'])\n",
    "plt.legend([\"rating\", \"sentimental score\"], loc=\"best\")\n",
    "axes = plt.gca()\n",
    "axes.set_ylim([0,5.0])\n",
    "plt.grid()\n",
    "plt.title(\"Mean for cuisine\")"
   ]
  },
  {
   "cell_type": "markdown",
   "metadata": {},
   "source": [
    "The plot shows that both mean rating and mean sentimental score are actually different among each cuisine category. To observe the difference better, we normalized the rating to range from 0 to 1 as well so that we can compare the normalized rating with the sentimental score directlt."
   ]
  },
  {
   "cell_type": "code",
   "execution_count": 85,
   "metadata": {
    "scrolled": true
   },
   "outputs": [
    {
     "data": {
      "text/plain": [
       "Text(0.5, 1.0, 'Difference between normalized rating and sentimental score')"
      ]
     },
     "execution_count": 85,
     "metadata": {},
     "output_type": "execute_result"
    },
    {
     "data": {
      "image/png": "[encoded data removed]",
      "text/plain": [
       "<Figure size 432x288 with 1 Axes>"
      ]
     },
     "metadata": {},
     "output_type": "display_data"
    }
   ],
   "source": [
    "norm = meanByCate.copy()\n",
    "norm['rating'] = norm['rating']/5\n",
    "\n",
    "plt.plot(norm[['rating','positive_score']])\n",
    "plt.grid()\n",
    "plt.title(\"Difference between normalized rating and sentimental score\")"
   ]
  },
  {
   "cell_type": "markdown",
   "metadata": {},
   "source": [
    "From the visualization, we've noticed that some difference gaps are huge while some are small."
   ]
  },
  {
   "cell_type": "markdown",
   "metadata": {},
   "source": [
    "#### Hypothesis testing\n",
    "In addition to the visualization, we also performed the hypothesis testing on whether there the difference among cuisine categories are significant. We first built the regression predicting the rating by the sentimental score for each cuisine category and then tested whether regression models are same by testing their slope coefficients."
   ]
  },
  {
   "cell_type": "markdown",
   "metadata": {},
   "source": [
    "##### Regression\n",
    "We built the regression and got the slope with its standard errors for each cuisine category."
   ]
  },
  {
   "cell_type": "code",
   "execution_count": 86,
   "metadata": {},
   "outputs": [],
   "source": [
    "def regression(types, reviews):\n",
    "    \"\"\"\n",
    "    Build regression predicting rating scores on sentimental scores produced by review text analysis\n",
    "    \n",
    "    Args:\n",
    "        types (list): list of cuisine category\n",
    "        reviews (DataFrame): reviews data, each row is a review    \n",
    "    Returns:\n",
    "        slopes (Dictionary): key is cuisine category, value is slope coefficient of the regression for each cuisine category\n",
    "        std_errs (Dictionary): key is cuisine category, value is standrad errors of the slope coefficient of the regression for each cuisine category\n",
    "    \"\"\"\n",
    "    slopes = {}\n",
    "    std_errs = {}\n",
    "    for i in range(0,len(types)):\n",
    "        slope, intercept, r_value, p_value, std_err = stats.linregress(reviews[reviews[\"type\"]==types[i]][\"positive_score\"],reviews[reviews[\"type\"]==types[i]][\"rating\"])\n",
    "        slopes[types[i]] = slope\n",
    "        std_errs[types[i]] = std_err\n",
    "    return (slopes, std_errs)"
   ]
  },
  {
   "cell_type": "code",
   "execution_count": 87,
   "metadata": {},
   "outputs": [
    {
     "data": {
      "text/plain": [
       "({'chinese': 2.110771788123103,\n",
       "  'italian': 1.7217859374529048,\n",
       "  'japanese': 1.2788598473347195,\n",
       "  'korean': 1.199268361690619,\n",
       "  'mexican': 1.7668827921561852,\n",
       "  'newamerican': 1.2677619068041495},\n",
       " {'chinese': 0.23258445891059815,\n",
       "  'italian': 0.26690109773999804,\n",
       "  'japanese': 0.4588331840417963,\n",
       "  'korean': 0.5420079415959076,\n",
       "  'mexican': 0.21286559990583956,\n",
       "  'newamerican': 0.17233371252499435})"
      ]
     },
     "execution_count": 87,
     "metadata": {},
     "output_type": "execute_result"
    }
   ],
   "source": [
    "slopes, std_errs = regression(types, reviews)\n",
    "slopes, std_errs"
   ]
  },
  {
   "cell_type": "code",
   "execution_count": 88,
   "metadata": {},
   "outputs": [
    {
     "data": {
      "image/png": "[encoded data removed]",
      "text/plain": [
       "<Figure size 432x288 with 1 Axes>"
      ]
     },
     "metadata": {},
     "output_type": "display_data"
    },
    {
     "data": {
      "image/png": "[encoded data removed]",
      "text/plain": [
       "<Figure size 432x288 with 1 Axes>"
      ]
     },
     "metadata": {},
     "output_type": "display_data"
    }
   ],
   "source": [
    "plt.bar(*zip(*sorted(slopes.items())))\n",
    "plt.grid()\n",
    "plt.title(\"Slope\")\n",
    "plt.show()\n",
    "plt.bar(*zip(*sorted(std_errs.items())))\n",
    "plt.grid()\n",
    "plt.title(\"Standard Errors\")\n",
    "plt.show()"
   ]
  },
  {
   "cell_type": "markdown",
   "metadata": {},
   "source": [
    "From the visualization, we've found the slopes are quite different in some pairs."
   ]
  },
  {
   "cell_type": "markdown",
   "metadata": {},
   "source": [
    "##### [Hypothesis testing](https://stats.stackexchange.com/questions/93540/testing-equality-of-coefficients-from-two-different-regressions)\n",
    "To test equality of slopes from two different regressions, Z-test is used. The formula is as below:\n",
    "$$\\text{Z}= \\frac{\\beta_{1} - \\beta_{2}} {\\text{SE}\\beta_{1} - \\text{SE}\\beta_{2}} $$ \n",
    "Where $\\text{SE}\\beta$ is the standard error of $\\beta$."
   ]
  },
  {
   "cell_type": "code",
   "execution_count": 89,
   "metadata": {},
   "outputs": [],
   "source": [
    "def hypothesis_testing(types, slopes, std_errs):\n",
    "    \"\"\"\n",
    "    Perform hypothesis testing on each pairs of regreesion models to test whether two models have the same coefficient.\n",
    "    \n",
    "    Args:\n",
    "        types (list): list of cuisine category\n",
    "        slopes (Dictionary): key is cuisine category, value is slope coefficient of the regression for each cuisine category\n",
    "        std_errs (Dictionary): key is cuisine category, value is standrad errors of the slope coefficient of the regression for each cuisine category\n",
    "    Returns:\n",
    "        zs (Dictionary): key is the pair of two cuisine category, value is the z-test value and whether to reject the hypothesis\n",
    "    \"\"\"\n",
    "    zs = {}\n",
    "    for i in range(0,len(types)):\n",
    "        for j in range(i+1,len(types)):\n",
    "            z = (slopes[types[i]] - slopes[types[j]]) / math.sqrt(std_errs[types[i]]**2 + std_errs[types[j]]**2)\n",
    "            rej = z > 1.65\n",
    "            zs[types[i]+\" & \"+types[j]] = (z, rej)\n",
    "    return zs"
   ]
  },
  {
   "cell_type": "code",
   "execution_count": 90,
   "metadata": {},
   "outputs": [
    {
     "data": {
      "text/plain": [
       "{'chinese & italian': (1.0987611444179142, False),\n",
       " 'chinese & japanese': (1.6171980831638717, False),\n",
       " 'chinese & korean': (1.5454358355991138, False),\n",
       " 'chinese & mexican': (1.0907096432836478, False),\n",
       " 'chinese & newamerican': (2.9122259428989454, True),\n",
       " 'italian & japanese': (0.8344271834918732, False),\n",
       " 'italian & korean': (0.8648668138680672, False),\n",
       " 'italian & mexican': (-0.13209729226894856, False),\n",
       " 'italian & newamerican': (1.4290838834652329, False),\n",
       " 'japanese & korean': (0.11207839732447943, False),\n",
       " 'japanese & mexican': (-0.9648422468349488, False),\n",
       " 'japanese & newamerican': (0.022642880047275868, False),\n",
       " 'korean & mexican': (-0.9747641330072553, False),\n",
       " 'korean & newamerican': (-0.12042915036094734, False),\n",
       " 'mexican & newamerican': (1.8224021311381884, True)}"
      ]
     },
     "execution_count": 90,
     "metadata": {},
     "output_type": "execute_result"
    }
   ],
   "source": [
    "zs = hypothesis_testing(types, slopes, std_errs)\n",
    "zs"
   ]
  },
  {
   "cell_type": "markdown",
   "metadata": {},
   "source": [
    "There are two pairs of testing produced the \"rejection\" result, which means the coefficients for Chinese and New American cuisines and the coefficients for Mexican and New American cuisines have significantly difference."
   ]
  },
  {
   "cell_type": "markdown",
   "metadata": {},
   "source": [
    "### 3. Conclusion"
   ]
  },
  {
   "cell_type": "markdown",
   "metadata": {},
   "source": [
    "The larger slope coefficient means people say something not that good but still give high rating. People are more generous in this way! The result shows people are harsher to New American cuisine than Chinese cuisine and Mexican cuisine! \n",
    "\n",
    "According to the [Quantcast country demographics](https://www.quora.com/Is-Yelp-big-in-any-other-countries), the top 2 countries where Yelp users are from is US and Canada. Noted that over 50% Yelp users are from US or Canada, We believe that people tend to have higher criteria for cuisine from their own culture! "
   ]
  },
  {
   "cell_type": "markdown",
   "metadata": {},
   "source": [
    "## Restaurant Popularity: Number of Reviews"
   ]
  },
  {
   "cell_type": "markdown",
   "metadata": {},
   "source": [
    "Using the restaurants dataset, we want to look at the distribution of number of reviews across the six types of restaurants."
   ]
  },
  {
   "cell_type": "markdown",
   "metadata": {},
   "source": [
    "### 1. Number of reviews vs type of restaurants"
   ]
  },
  {
   "cell_type": "code",
   "execution_count": 72,
   "metadata": {
    "scrolled": true
   },
   "outputs": [
    {
     "data": {
      "text/plain": [
       "[Text(0, 0, 'Chinese'),\n",
       " Text(0, 0, 'Korean'),\n",
       " Text(0, 0, 'Japanese'),\n",
       " Text(0, 0, 'Italian'),\n",
       " Text(0, 0, 'Mexican'),\n",
       " Text(0, 0, 'New American')]"
      ]
     },
     "execution_count": 72,
     "metadata": {},
     "output_type": "execute_result"
    },
    {
     "data": {
      "image/png": "[encoded data removed]",
      "text/plain": [
       "<Figure size 648x432 with 1 Axes>"
      ]
     },
     "metadata": {},
     "output_type": "display_data"
    }
   ],
   "source": [
    "# plot review count vs type of restaurants\n",
    "l_chinese = pitts_rest[pitts_rest.category == \"chinese\"].review_count\n",
    "l_korean = pitts_rest[pitts_rest.category == \"korean\"].review_count\n",
    "l_japanese = pitts_rest[pitts_rest.category == \"japanese\"].review_count\n",
    "l_italian = pitts_rest[pitts_rest.category == \"italian\"].review_count\n",
    "l_mexican = pitts_rest[pitts_rest.category == \"mexican\"].review_count\n",
    "l_newamerican = pitts_rest[pitts_rest.category == \"newamerican\"].review_count\n",
    "l = [l_chinese,l_korean,l_japanese,l_italian,l_mexican,l_newamerican]\n",
    "\n",
    "fig = plt.figure(1, figsize=(9, 6))\n",
    "\n",
    "# Create an axes instance\n",
    "ax = fig.add_subplot(111)\n",
    "\n",
    "# Create the boxplot\n",
    "bp = ax.boxplot(l)\n",
    "ax.set_xticklabels(['Chinese', 'Korean', 'Japanese', 'Italian','Mexican','New American'])"
   ]
  },
  {
   "cell_type": "markdown",
   "metadata": {},
   "source": [
    "From the graph, we can see that Korean and Japanese restaurants have the highest median of number of reviews among the six types of restaurants. We can also notice that New American restaurants have the biggest range of number of reviews compared to the other five types of restaurants."
   ]
  },
  {
   "cell_type": "markdown",
   "metadata": {},
   "source": [
    "### 2. Number of Reviews vs overall rating of restaurants"
   ]
  },
  {
   "cell_type": "code",
   "execution_count": 91,
   "metadata": {},
   "outputs": [
    {
     "data": {
      "text/plain": [
       "array([[1.        , 0.06639637],\n",
       "       [0.06639637, 1.        ]])"
      ]
     },
     "execution_count": 91,
     "metadata": {},
     "output_type": "execute_result"
    }
   ],
   "source": [
    "# Compute the correlation between review count and overall rating of the restaurant.\n",
    "np.corrcoef(pitts_rest[\"rating\"], pitts_rest[\"review_count\"])"
   ]
  },
  {
   "cell_type": "markdown",
   "metadata": {},
   "source": [
    "Since the correlation coefficient is close to 0, we say that there is very little correlation between the overall restaurant rating and the number of reviews for that restaurant."
   ]
  },
  {
   "cell_type": "markdown",
   "metadata": {},
   "source": [
    "### 3. Demographics variables\n",
    "Next, we incorported some demographics variables from Policymap and investigate their relationships with the average number of reviews of restaurants in a zip code area.\n",
    "\n",
    "The demographics variables we used are:\n",
    "- Population Density\n",
    "- Chinese population percentage\n",
    "- White population percentage"
   ]
  },
  {
   "cell_type": "markdown",
   "metadata": {},
   "source": [
    "#### 3.1 Average number of reviews vs population density of zip code area"
   ]
  },
  {
   "cell_type": "markdown",
   "metadata": {},
   "source": [
    "`pop_den`: [population_density.csv](https://drive.google.com/open?id=1GrSFGARSOdkbgrlqswm9INzSpN7OFic_): Estimated number of people per square mile, between 2013-2017, by zip code. source: [Policymap](http://www.policymap.com/our-data-directory.html#Census:%20Decennial%20Census%20and%20American%20Community%20Survey%20(ACS)!)"
   ]
  },
  {
   "cell_type": "code",
   "execution_count": 93,
   "metadata": {},
   "outputs": [
    {
     "data": {
      "text/html": [
       "<div>\n",
       "<style scoped>\n",
       "    .dataframe tbody tr th:only-of-type {\n",
       "        vertical-align: middle;\n",
       "    }\n",
       "\n",
       "    .dataframe tbody tr th {\n",
       "        vertical-align: top;\n",
       "    }\n",
       "\n",
       "    .dataframe thead th {\n",
       "        text-align: right;\n",
       "    }\n",
       "</style>\n",
       "<table border=\"1\" class=\"dataframe\">\n",
       "  <thead>\n",
       "    <tr style=\"text-align: right;\">\n",
       "      <th></th>\n",
       "      <th>zipcode</th>\n",
       "      <th>num_pp_per_sq_mile</th>\n",
       "    </tr>\n",
       "  </thead>\n",
       "  <tbody>\n",
       "    <tr>\n",
       "      <td>0</td>\n",
       "      <td>16720</td>\n",
       "      <td>3.97</td>\n",
       "    </tr>\n",
       "    <tr>\n",
       "      <td>1</td>\n",
       "      <td>16735</td>\n",
       "      <td>21.35</td>\n",
       "    </tr>\n",
       "    <tr>\n",
       "      <td>2</td>\n",
       "      <td>16915</td>\n",
       "      <td>24.81</td>\n",
       "    </tr>\n",
       "    <tr>\n",
       "      <td>3</td>\n",
       "      <td>16901</td>\n",
       "      <td>43.30</td>\n",
       "    </tr>\n",
       "    <tr>\n",
       "      <td>4</td>\n",
       "      <td>16701</td>\n",
       "      <td>81.15</td>\n",
       "    </tr>\n",
       "  </tbody>\n",
       "</table>\n",
       "</div>"
      ],
      "text/plain": [
       "   zipcode  num_pp_per_sq_mile\n",
       "0    16720                3.97\n",
       "1    16735               21.35\n",
       "2    16915               24.81\n",
       "3    16901               43.30\n",
       "4    16701               81.15"
      ]
     },
     "execution_count": 93,
     "metadata": {},
     "output_type": "execute_result"
    }
   ],
   "source": [
    "pop_den = pd.read_csv(\"population_density.csv\")\n",
    "pop_den['zipcode']=pop_den['zipcode'].astype(int)\n",
    "pop_den['num_pp_per_sq_mile']=pop_den['num_pp_per_sq_mile'].astype(float)\n",
    "pop_den.head()"
   ]
  },
  {
   "cell_type": "markdown",
   "metadata": {},
   "source": [
    "Map each restaurant in `rest` with a population density in `pop_den` using the zip code of the restaurant."
   ]
  },
  {
   "cell_type": "code",
   "execution_count": 95,
   "metadata": {},
   "outputs": [
    {
     "data": {
      "text/html": [
       "<div>\n",
       "<style scoped>\n",
       "    .dataframe tbody tr th:only-of-type {\n",
       "        vertical-align: middle;\n",
       "    }\n",
       "\n",
       "    .dataframe tbody tr th {\n",
       "        vertical-align: top;\n",
       "    }\n",
       "\n",
       "    .dataframe thead th {\n",
       "        text-align: right;\n",
       "    }\n",
       "</style>\n",
       "<table border=\"1\" class=\"dataframe\">\n",
       "  <thead>\n",
       "    <tr style=\"text-align: right;\">\n",
       "      <th></th>\n",
       "      <th>address</th>\n",
       "      <th>category</th>\n",
       "      <th>name</th>\n",
       "      <th>rating</th>\n",
       "      <th>restId</th>\n",
       "      <th>review_count</th>\n",
       "      <th>url</th>\n",
       "      <th>zipcode</th>\n",
       "      <th>num_pp_per_sq_mile</th>\n",
       "    </tr>\n",
       "  </thead>\n",
       "  <tbody>\n",
       "    <tr>\n",
       "      <td>0</td>\n",
       "      <td>4502 Butler St</td>\n",
       "      <td>vietnamese</td>\n",
       "      <td>Banh Mi &amp; Ti</td>\n",
       "      <td>4.5</td>\n",
       "      <td>4mYS-4UOjTKgsf0tX1_IkQ</td>\n",
       "      <td>250.0</td>\n",
       "      <td>https://www.yelp.com/biz/banh-mi-and-ti-pittsb...</td>\n",
       "      <td>15201</td>\n",
       "      <td>5158.58</td>\n",
       "    </tr>\n",
       "    <tr>\n",
       "      <td>1</td>\n",
       "      <td>5202 Butler St</td>\n",
       "      <td>coffee</td>\n",
       "      <td>B52 Cafe</td>\n",
       "      <td>4.5</td>\n",
       "      <td>bXCWON2Me0o86qvAb-XZPQ</td>\n",
       "      <td>258.0</td>\n",
       "      <td>https://www.yelp.com/biz/b52-cafe-pittsburgh-4...</td>\n",
       "      <td>15201</td>\n",
       "      <td>5158.58</td>\n",
       "    </tr>\n",
       "    <tr>\n",
       "      <td>2</td>\n",
       "      <td>3623 Butler St</td>\n",
       "      <td>coffee</td>\n",
       "      <td>Espresso a Mano</td>\n",
       "      <td>4.5</td>\n",
       "      <td>Cf0iV72DTqR0ggBje2d0sg</td>\n",
       "      <td>337.0</td>\n",
       "      <td>https://www.yelp.com/biz/espresso-a-mano-pitts...</td>\n",
       "      <td>15201</td>\n",
       "      <td>5158.58</td>\n",
       "    </tr>\n",
       "    <tr>\n",
       "      <td>3</td>\n",
       "      <td>4121 Butler St</td>\n",
       "      <td>creperies</td>\n",
       "      <td>Geppetto Cafe</td>\n",
       "      <td>4.5</td>\n",
       "      <td>FG8atOE15c8IoQH_hEb9zA</td>\n",
       "      <td>242.0</td>\n",
       "      <td>https://www.yelp.com/biz/geppetto-cafe-pittsbu...</td>\n",
       "      <td>15201</td>\n",
       "      <td>5158.58</td>\n",
       "    </tr>\n",
       "    <tr>\n",
       "      <td>4</td>\n",
       "      <td>3801 Butler St</td>\n",
       "      <td>italian</td>\n",
       "      <td>Piccolo Forno</td>\n",
       "      <td>4.0</td>\n",
       "      <td>usFNFsaaHFxEbnBO4FaFHA</td>\n",
       "      <td>447.0</td>\n",
       "      <td>https://www.yelp.com/biz/piccolo-forno-pittsbu...</td>\n",
       "      <td>15201</td>\n",
       "      <td>5158.58</td>\n",
       "    </tr>\n",
       "  </tbody>\n",
       "</table>\n",
       "</div>"
      ],
      "text/plain": [
       "          address    category             name  rating  \\\n",
       "0  4502 Butler St  vietnamese     Banh Mi & Ti     4.5   \n",
       "1  5202 Butler St      coffee         B52 Cafe     4.5   \n",
       "2  3623 Butler St      coffee  Espresso a Mano     4.5   \n",
       "3  4121 Butler St   creperies    Geppetto Cafe     4.5   \n",
       "4  3801 Butler St     italian    Piccolo Forno     4.0   \n",
       "\n",
       "                   restId  review_count  \\\n",
       "0  4mYS-4UOjTKgsf0tX1_IkQ         250.0   \n",
       "1  bXCWON2Me0o86qvAb-XZPQ         258.0   \n",
       "2  Cf0iV72DTqR0ggBje2d0sg         337.0   \n",
       "3  FG8atOE15c8IoQH_hEb9zA         242.0   \n",
       "4  usFNFsaaHFxEbnBO4FaFHA         447.0   \n",
       "\n",
       "                                                 url  zipcode  \\\n",
       "0  https://www.yelp.com/biz/banh-mi-and-ti-pittsb...    15201   \n",
       "1  https://www.yelp.com/biz/b52-cafe-pittsburgh-4...    15201   \n",
       "2  https://www.yelp.com/biz/espresso-a-mano-pitts...    15201   \n",
       "3  https://www.yelp.com/biz/geppetto-cafe-pittsbu...    15201   \n",
       "4  https://www.yelp.com/biz/piccolo-forno-pittsbu...    15201   \n",
       "\n",
       "   num_pp_per_sq_mile  \n",
       "0             5158.58  \n",
       "1             5158.58  \n",
       "2             5158.58  \n",
       "3             5158.58  \n",
       "4             5158.58  "
      ]
     },
     "execution_count": 95,
     "metadata": {},
     "output_type": "execute_result"
    }
   ],
   "source": [
    "## append population density to rest and remove rows containing NAs\n",
    "full= pd.merge(left = pitts_rest, right = pop_den, how = \"left\", left_on = \"zipcode\", right_on = \"zipcode\")\n",
    "full= full.dropna()\n",
    "full.head()"
   ]
  },
  {
   "cell_type": "code",
   "execution_count": 97,
   "metadata": {},
   "outputs": [
    {
     "data": {
      "text/html": [
       "<div>\n",
       "<style scoped>\n",
       "    .dataframe tbody tr th:only-of-type {\n",
       "        vertical-align: middle;\n",
       "    }\n",
       "\n",
       "    .dataframe tbody tr th {\n",
       "        vertical-align: top;\n",
       "    }\n",
       "\n",
       "    .dataframe thead th {\n",
       "        text-align: right;\n",
       "    }\n",
       "</style>\n",
       "<table border=\"1\" class=\"dataframe\">\n",
       "  <thead>\n",
       "    <tr style=\"text-align: right;\">\n",
       "      <th></th>\n",
       "      <th>review_count</th>\n",
       "      <th>num_pp_per_sq_mile</th>\n",
       "    </tr>\n",
       "    <tr>\n",
       "      <th>zipcode</th>\n",
       "      <th></th>\n",
       "      <th></th>\n",
       "    </tr>\n",
       "  </thead>\n",
       "  <tbody>\n",
       "    <tr>\n",
       "      <td>15201</td>\n",
       "      <td>131.888889</td>\n",
       "      <td>5158.58</td>\n",
       "    </tr>\n",
       "    <tr>\n",
       "      <td>15202</td>\n",
       "      <td>34.347826</td>\n",
       "      <td>4443.36</td>\n",
       "    </tr>\n",
       "    <tr>\n",
       "      <td>15203</td>\n",
       "      <td>112.346457</td>\n",
       "      <td>6883.83</td>\n",
       "    </tr>\n",
       "    <tr>\n",
       "      <td>15205</td>\n",
       "      <td>98.923077</td>\n",
       "      <td>2174.42</td>\n",
       "    </tr>\n",
       "    <tr>\n",
       "      <td>15206</td>\n",
       "      <td>139.088608</td>\n",
       "      <td>6188.66</td>\n",
       "    </tr>\n",
       "  </tbody>\n",
       "</table>\n",
       "</div>"
      ],
      "text/plain": [
       "         review_count  num_pp_per_sq_mile\n",
       "zipcode                                  \n",
       "15201      131.888889             5158.58\n",
       "15202       34.347826             4443.36\n",
       "15203      112.346457             6883.83\n",
       "15205       98.923077             2174.42\n",
       "15206      139.088608             6188.66"
      ]
     },
     "execution_count": 97,
     "metadata": {},
     "output_type": "execute_result"
    }
   ],
   "source": [
    "# Calculate the mean of number of reviews of restaurants in a neighborhood.\n",
    "df = full[['zipcode','review_count','num_pp_per_sq_mile']]\n",
    "df = df.groupby(['zipcode']).mean()\n",
    "df.head()"
   ]
  },
  {
   "cell_type": "code",
   "execution_count": 98,
   "metadata": {},
   "outputs": [
    {
     "data": {
      "text/plain": [
       "array([[1.       , 0.4781326],\n",
       "       [0.4781326, 1.       ]])"
      ]
     },
     "execution_count": 98,
     "metadata": {},
     "output_type": "execute_result"
    }
   ],
   "source": [
    "# compute correlation coefficient between population density and review count\n",
    "np.corrcoef(df[\"num_pp_per_sq_mile\"], df[\"review_count\"])"
   ]
  },
  {
   "cell_type": "markdown",
   "metadata": {},
   "source": [
    "Since the correlation coefficient is about 0.5, we can say that there is a moderate correlation between population density of a neighborhood and the average number of reviews of restaurants in that neighborhood. This can also be reflected in an upward trend in the scatterplot below."
   ]
  },
  {
   "cell_type": "code",
   "execution_count": 99,
   "metadata": {},
   "outputs": [
    {
     "data": {
      "image/png": "[encoded data removed]",
      "text/plain": [
       "<Figure size 432x288 with 1 Axes>"
      ]
     },
     "metadata": {},
     "output_type": "display_data"
    }
   ],
   "source": [
    "# plot review count vs population density\n",
    "plt.scatter(df[\"num_pp_per_sq_mile\"],df[\"review_count\"] )\n",
    "plt.xlabel(\"number of people per square mile\")\n",
    "plt.ylabel(\"average number of reviews\")\n",
    "plt.show()"
   ]
  },
  {
   "cell_type": "markdown",
   "metadata": {},
   "source": [
    "#### 3.2 Average number of reviews vs median household income of zip code area"
   ]
  },
  {
   "cell_type": "markdown",
   "metadata": {},
   "source": [
    "`income` : [median_household_income.csv](https://drive.google.com/open?id=1ONI5wKC16BPRzlBd0eUYOlZyLSBLNSNB): Median household income, between 2013-20, by zip code. source: [Policymap](http://www.policymap.com/our-data-directory.html#Census:%20Decennial%20Census%20and%20American%20Community%20Survey%20(ACS)) \n",
    ")\n",
    "\n",
    "`income_zip` : mapping each restaurant in `rest` with a median household income in `income` using the zip code of the restaurant."
   ]
  },
  {
   "cell_type": "code",
   "execution_count": 100,
   "metadata": {},
   "outputs": [
    {
     "data": {
      "text/html": [
       "<div>\n",
       "<style scoped>\n",
       "    .dataframe tbody tr th:only-of-type {\n",
       "        vertical-align: middle;\n",
       "    }\n",
       "\n",
       "    .dataframe tbody tr th {\n",
       "        vertical-align: top;\n",
       "    }\n",
       "\n",
       "    .dataframe thead th {\n",
       "        text-align: right;\n",
       "    }\n",
       "</style>\n",
       "<table border=\"1\" class=\"dataframe\">\n",
       "  <thead>\n",
       "    <tr style=\"text-align: right;\">\n",
       "      <th></th>\n",
       "      <th>zipcode</th>\n",
       "      <th>median_income_household</th>\n",
       "    </tr>\n",
       "  </thead>\n",
       "  <tbody>\n",
       "    <tr>\n",
       "      <td>0</td>\n",
       "      <td>16720</td>\n",
       "      <td>47109.0</td>\n",
       "    </tr>\n",
       "    <tr>\n",
       "      <td>1</td>\n",
       "      <td>16735</td>\n",
       "      <td>45741.0</td>\n",
       "    </tr>\n",
       "    <tr>\n",
       "      <td>2</td>\n",
       "      <td>16915</td>\n",
       "      <td>47804.0</td>\n",
       "    </tr>\n",
       "    <tr>\n",
       "      <td>3</td>\n",
       "      <td>16901</td>\n",
       "      <td>53809.0</td>\n",
       "    </tr>\n",
       "    <tr>\n",
       "      <td>4</td>\n",
       "      <td>16701</td>\n",
       "      <td>42825.0</td>\n",
       "    </tr>\n",
       "  </tbody>\n",
       "</table>\n",
       "</div>"
      ],
      "text/plain": [
       "   zipcode  median_income_household\n",
       "0    16720                  47109.0\n",
       "1    16735                  45741.0\n",
       "2    16915                  47804.0\n",
       "3    16901                  53809.0\n",
       "4    16701                  42825.0"
      ]
     },
     "execution_count": 100,
     "metadata": {},
     "output_type": "execute_result"
    }
   ],
   "source": [
    "income = pd.read_csv(\"median_income_household.csv\")\n",
    "income['zipcode']=income['zipcode'].astype(int)\n",
    "income['median_income_household']= income['median_income_household'].astype(float)\n",
    "income.head()"
   ]
  },
  {
   "cell_type": "code",
   "execution_count": 101,
   "metadata": {
    "scrolled": false
   },
   "outputs": [
    {
     "data": {
      "text/html": [
       "<div>\n",
       "<style scoped>\n",
       "    .dataframe tbody tr th:only-of-type {\n",
       "        vertical-align: middle;\n",
       "    }\n",
       "\n",
       "    .dataframe tbody tr th {\n",
       "        vertical-align: top;\n",
       "    }\n",
       "\n",
       "    .dataframe thead th {\n",
       "        text-align: right;\n",
       "    }\n",
       "</style>\n",
       "<table border=\"1\" class=\"dataframe\">\n",
       "  <thead>\n",
       "    <tr style=\"text-align: right;\">\n",
       "      <th></th>\n",
       "      <th>address</th>\n",
       "      <th>category</th>\n",
       "      <th>name</th>\n",
       "      <th>rating</th>\n",
       "      <th>restId</th>\n",
       "      <th>review_count</th>\n",
       "      <th>url</th>\n",
       "      <th>zipcode</th>\n",
       "      <th>median_income_household</th>\n",
       "    </tr>\n",
       "  </thead>\n",
       "  <tbody>\n",
       "    <tr>\n",
       "      <td>0</td>\n",
       "      <td>4502 Butler St</td>\n",
       "      <td>vietnamese</td>\n",
       "      <td>Banh Mi &amp; Ti</td>\n",
       "      <td>4.5</td>\n",
       "      <td>4mYS-4UOjTKgsf0tX1_IkQ</td>\n",
       "      <td>250.0</td>\n",
       "      <td>https://www.yelp.com/biz/banh-mi-and-ti-pittsb...</td>\n",
       "      <td>15201</td>\n",
       "      <td>56897.0</td>\n",
       "    </tr>\n",
       "    <tr>\n",
       "      <td>1</td>\n",
       "      <td>5202 Butler St</td>\n",
       "      <td>coffee</td>\n",
       "      <td>B52 Cafe</td>\n",
       "      <td>4.5</td>\n",
       "      <td>bXCWON2Me0o86qvAb-XZPQ</td>\n",
       "      <td>258.0</td>\n",
       "      <td>https://www.yelp.com/biz/b52-cafe-pittsburgh-4...</td>\n",
       "      <td>15201</td>\n",
       "      <td>56897.0</td>\n",
       "    </tr>\n",
       "    <tr>\n",
       "      <td>2</td>\n",
       "      <td>3623 Butler St</td>\n",
       "      <td>coffee</td>\n",
       "      <td>Espresso a Mano</td>\n",
       "      <td>4.5</td>\n",
       "      <td>Cf0iV72DTqR0ggBje2d0sg</td>\n",
       "      <td>337.0</td>\n",
       "      <td>https://www.yelp.com/biz/espresso-a-mano-pitts...</td>\n",
       "      <td>15201</td>\n",
       "      <td>56897.0</td>\n",
       "    </tr>\n",
       "    <tr>\n",
       "      <td>3</td>\n",
       "      <td>4121 Butler St</td>\n",
       "      <td>creperies</td>\n",
       "      <td>Geppetto Cafe</td>\n",
       "      <td>4.5</td>\n",
       "      <td>FG8atOE15c8IoQH_hEb9zA</td>\n",
       "      <td>242.0</td>\n",
       "      <td>https://www.yelp.com/biz/geppetto-cafe-pittsbu...</td>\n",
       "      <td>15201</td>\n",
       "      <td>56897.0</td>\n",
       "    </tr>\n",
       "    <tr>\n",
       "      <td>4</td>\n",
       "      <td>3801 Butler St</td>\n",
       "      <td>italian</td>\n",
       "      <td>Piccolo Forno</td>\n",
       "      <td>4.0</td>\n",
       "      <td>usFNFsaaHFxEbnBO4FaFHA</td>\n",
       "      <td>447.0</td>\n",
       "      <td>https://www.yelp.com/biz/piccolo-forno-pittsbu...</td>\n",
       "      <td>15201</td>\n",
       "      <td>56897.0</td>\n",
       "    </tr>\n",
       "  </tbody>\n",
       "</table>\n",
       "</div>"
      ],
      "text/plain": [
       "          address    category             name  rating  \\\n",
       "0  4502 Butler St  vietnamese     Banh Mi & Ti     4.5   \n",
       "1  5202 Butler St      coffee         B52 Cafe     4.5   \n",
       "2  3623 Butler St      coffee  Espresso a Mano     4.5   \n",
       "3  4121 Butler St   creperies    Geppetto Cafe     4.5   \n",
       "4  3801 Butler St     italian    Piccolo Forno     4.0   \n",
       "\n",
       "                   restId  review_count  \\\n",
       "0  4mYS-4UOjTKgsf0tX1_IkQ         250.0   \n",
       "1  bXCWON2Me0o86qvAb-XZPQ         258.0   \n",
       "2  Cf0iV72DTqR0ggBje2d0sg         337.0   \n",
       "3  FG8atOE15c8IoQH_hEb9zA         242.0   \n",
       "4  usFNFsaaHFxEbnBO4FaFHA         447.0   \n",
       "\n",
       "                                                 url  zipcode  \\\n",
       "0  https://www.yelp.com/biz/banh-mi-and-ti-pittsb...    15201   \n",
       "1  https://www.yelp.com/biz/b52-cafe-pittsburgh-4...    15201   \n",
       "2  https://www.yelp.com/biz/espresso-a-mano-pitts...    15201   \n",
       "3  https://www.yelp.com/biz/geppetto-cafe-pittsbu...    15201   \n",
       "4  https://www.yelp.com/biz/piccolo-forno-pittsbu...    15201   \n",
       "\n",
       "   median_income_household  \n",
       "0                  56897.0  \n",
       "1                  56897.0  \n",
       "2                  56897.0  \n",
       "3                  56897.0  \n",
       "4                  56897.0  "
      ]
     },
     "execution_count": 101,
     "metadata": {},
     "output_type": "execute_result"
    }
   ],
   "source": [
    "income_zip = pd.merge(left = pitts_rest, right = income, how = \"left\", left_on = \"zipcode\", right_on = \"zipcode\")\n",
    "income_zip = income_zip.dropna()\n",
    "income_zip.head()"
   ]
  },
  {
   "cell_type": "code",
   "execution_count": 103,
   "metadata": {},
   "outputs": [
    {
     "data": {
      "text/html": [
       "<div>\n",
       "<style scoped>\n",
       "    .dataframe tbody tr th:only-of-type {\n",
       "        vertical-align: middle;\n",
       "    }\n",
       "\n",
       "    .dataframe tbody tr th {\n",
       "        vertical-align: top;\n",
       "    }\n",
       "\n",
       "    .dataframe thead th {\n",
       "        text-align: right;\n",
       "    }\n",
       "</style>\n",
       "<table border=\"1\" class=\"dataframe\">\n",
       "  <thead>\n",
       "    <tr style=\"text-align: right;\">\n",
       "      <th></th>\n",
       "      <th>review_count</th>\n",
       "      <th>median_income_household</th>\n",
       "    </tr>\n",
       "    <tr>\n",
       "      <th>zipcode</th>\n",
       "      <th></th>\n",
       "      <th></th>\n",
       "    </tr>\n",
       "  </thead>\n",
       "  <tbody>\n",
       "    <tr>\n",
       "      <td>15201</td>\n",
       "      <td>131.888889</td>\n",
       "      <td>56897.0</td>\n",
       "    </tr>\n",
       "    <tr>\n",
       "      <td>15202</td>\n",
       "      <td>34.347826</td>\n",
       "      <td>48363.0</td>\n",
       "    </tr>\n",
       "    <tr>\n",
       "      <td>15203</td>\n",
       "      <td>112.346457</td>\n",
       "      <td>51306.0</td>\n",
       "    </tr>\n",
       "    <tr>\n",
       "      <td>15205</td>\n",
       "      <td>98.923077</td>\n",
       "      <td>55115.0</td>\n",
       "    </tr>\n",
       "    <tr>\n",
       "      <td>15206</td>\n",
       "      <td>139.088608</td>\n",
       "      <td>41899.0</td>\n",
       "    </tr>\n",
       "  </tbody>\n",
       "</table>\n",
       "</div>"
      ],
      "text/plain": [
       "         review_count  median_income_household\n",
       "zipcode                                       \n",
       "15201      131.888889                  56897.0\n",
       "15202       34.347826                  48363.0\n",
       "15203      112.346457                  51306.0\n",
       "15205       98.923077                  55115.0\n",
       "15206      139.088608                  41899.0"
      ]
     },
     "execution_count": 103,
     "metadata": {},
     "output_type": "execute_result"
    }
   ],
   "source": [
    "# Plot review_count vs median income of household in pittsburgh area\n",
    "df = income_zip[['zipcode','review_count','median_income_household']]\n",
    "df = df.groupby(['zipcode']).mean()\n",
    "df.head()"
   ]
  },
  {
   "cell_type": "code",
   "execution_count": 104,
   "metadata": {},
   "outputs": [
    {
     "data": {
      "text/plain": [
       "array([[ 1.        , -0.00982306],\n",
       "       [-0.00982306,  1.        ]])"
      ]
     },
     "execution_count": 104,
     "metadata": {},
     "output_type": "execute_result"
    }
   ],
   "source": [
    "# Compute correlation coefficient between population density and review count\n",
    "np.corrcoef(df[\"median_income_household\"], df[\"review_count\"])"
   ]
  },
  {
   "cell_type": "markdown",
   "metadata": {},
   "source": [
    "Since the correlation coefficient is close to 0, we say that there is very little correlation between the average number of reviews of restaurants in a neighborhood and the median household income of that neighborhood."
   ]
  },
  {
   "cell_type": "markdown",
   "metadata": {},
   "source": [
    "#### 3.3 Average number of reviews of Chinese restaurants vs <br>Chinese population percentage of zip code area"
   ]
  },
  {
   "cell_type": "markdown",
   "metadata": {},
   "source": [
    "`chinesepop`: [chinesepop.csv](https://drive.google.com/open?id=1gXx3T1ukyDTyp-rwEuyAjS_vIp3F-3zf): Chinese population percentage, between 2013-17, by zip code. source: [Policymap](https://www.policymap.com/data/our-data-directory/#Census:%20Decennial%20Census%20and%20American%20Community%20Survey%20(ACS)) "
   ]
  },
  {
   "cell_type": "code",
   "execution_count": 120,
   "metadata": {},
   "outputs": [
    {
     "data": {
      "text/html": [
       "<div>\n",
       "<style scoped>\n",
       "    .dataframe tbody tr th:only-of-type {\n",
       "        vertical-align: middle;\n",
       "    }\n",
       "\n",
       "    .dataframe tbody tr th {\n",
       "        vertical-align: top;\n",
       "    }\n",
       "\n",
       "    .dataframe thead th {\n",
       "        text-align: right;\n",
       "    }\n",
       "</style>\n",
       "<table border=\"1\" class=\"dataframe\">\n",
       "  <thead>\n",
       "    <tr style=\"text-align: right;\">\n",
       "      <th></th>\n",
       "      <th>zipcode</th>\n",
       "      <th>percentage_chinese</th>\n",
       "    </tr>\n",
       "  </thead>\n",
       "  <tbody>\n",
       "    <tr>\n",
       "      <td>0</td>\n",
       "      <td>15212</td>\n",
       "      <td>0.50</td>\n",
       "    </tr>\n",
       "    <tr>\n",
       "      <td>1</td>\n",
       "      <td>15207</td>\n",
       "      <td>0.53</td>\n",
       "    </tr>\n",
       "    <tr>\n",
       "      <td>2</td>\n",
       "      <td>15206</td>\n",
       "      <td>2.25</td>\n",
       "    </tr>\n",
       "    <tr>\n",
       "      <td>3</td>\n",
       "      <td>15210</td>\n",
       "      <td>0.24</td>\n",
       "    </tr>\n",
       "    <tr>\n",
       "      <td>4</td>\n",
       "      <td>15214</td>\n",
       "      <td>0.29</td>\n",
       "    </tr>\n",
       "  </tbody>\n",
       "</table>\n",
       "</div>"
      ],
      "text/plain": [
       "   zipcode  percentage_chinese\n",
       "0    15212                0.50\n",
       "1    15207                0.53\n",
       "2    15206                2.25\n",
       "3    15210                0.24\n",
       "4    15214                0.29"
      ]
     },
     "execution_count": 120,
     "metadata": {},
     "output_type": "execute_result"
    }
   ],
   "source": [
    "chinesepop = pd.read_csv(\"chinesepop.csv\")\n",
    "chinesepop['zipcode']=chinesepop['zipcode'].astype(int)\n",
    "chinesepop['percentage_chinese']=chinesepop['percentage_chinese'].astype(float)\n",
    "chinesepop.head()"
   ]
  },
  {
   "cell_type": "markdown",
   "metadata": {},
   "source": [
    "`chinese_rest`: map each restaurant in `rest` with a Chinese population percentage in `chinesepop` using the zip code of the restaurant."
   ]
  },
  {
   "cell_type": "code",
   "execution_count": 121,
   "metadata": {},
   "outputs": [
    {
     "data": {
      "text/html": [
       "<div>\n",
       "<style scoped>\n",
       "    .dataframe tbody tr th:only-of-type {\n",
       "        vertical-align: middle;\n",
       "    }\n",
       "\n",
       "    .dataframe tbody tr th {\n",
       "        vertical-align: top;\n",
       "    }\n",
       "\n",
       "    .dataframe thead th {\n",
       "        text-align: right;\n",
       "    }\n",
       "</style>\n",
       "<table border=\"1\" class=\"dataframe\">\n",
       "  <thead>\n",
       "    <tr style=\"text-align: right;\">\n",
       "      <th></th>\n",
       "      <th>address</th>\n",
       "      <th>category</th>\n",
       "      <th>name</th>\n",
       "      <th>rating</th>\n",
       "      <th>restId</th>\n",
       "      <th>review_count</th>\n",
       "      <th>url</th>\n",
       "      <th>zipcode</th>\n",
       "      <th>percentage_chinese</th>\n",
       "    </tr>\n",
       "  </thead>\n",
       "  <tbody>\n",
       "    <tr>\n",
       "      <td>51</td>\n",
       "      <td>5100 Butler St</td>\n",
       "      <td>chinese</td>\n",
       "      <td>Zen Asian Diner</td>\n",
       "      <td>3.0</td>\n",
       "      <td>afdthOntL8hfhomIFX-NWg</td>\n",
       "      <td>89.0</td>\n",
       "      <td>https://www.yelp.com/biz/zen-asian-diner-pitts...</td>\n",
       "      <td>15201</td>\n",
       "      <td>0.14</td>\n",
       "    </tr>\n",
       "    <tr>\n",
       "      <td>62</td>\n",
       "      <td>5500 Butler St</td>\n",
       "      <td>chinese</td>\n",
       "      <td>China Lin</td>\n",
       "      <td>3.5</td>\n",
       "      <td>toc31C-Qy2smSq0A7Q8FgA</td>\n",
       "      <td>35.0</td>\n",
       "      <td>https://www.yelp.com/biz/china-lin-pittsburgh?...</td>\n",
       "      <td>15201</td>\n",
       "      <td>0.14</td>\n",
       "    </tr>\n",
       "    <tr>\n",
       "      <td>78</td>\n",
       "      <td>472 44th St</td>\n",
       "      <td>chinese</td>\n",
       "      <td>Forever Rosemary</td>\n",
       "      <td>2.0</td>\n",
       "      <td>o2UAUbXSNRrqleXtSMLniA</td>\n",
       "      <td>4.0</td>\n",
       "      <td>https://www.yelp.com/biz/forever-rosemary-pitt...</td>\n",
       "      <td>15201</td>\n",
       "      <td>0.14</td>\n",
       "    </tr>\n",
       "    <tr>\n",
       "      <td>246</td>\n",
       "      <td>2013 Wharton St</td>\n",
       "      <td>chinese</td>\n",
       "      <td>Chan An Restaurant</td>\n",
       "      <td>3.0</td>\n",
       "      <td>gz87Wa7QUZ3gNlgE9NVPAA</td>\n",
       "      <td>8.0</td>\n",
       "      <td>https://www.yelp.com/biz/chan-an-restaurant-pi...</td>\n",
       "      <td>15203</td>\n",
       "      <td>0.34</td>\n",
       "    </tr>\n",
       "    <tr>\n",
       "      <td>368</td>\n",
       "      <td>213 S Highland Ave</td>\n",
       "      <td>chinese</td>\n",
       "      <td>Red Dragon</td>\n",
       "      <td>4.0</td>\n",
       "      <td>IcrFc5IwCcKyGbVmgWjVjg</td>\n",
       "      <td>25.0</td>\n",
       "      <td>https://www.yelp.com/biz/red-dragon-pittsburgh...</td>\n",
       "      <td>15206</td>\n",
       "      <td>2.25</td>\n",
       "    </tr>\n",
       "  </tbody>\n",
       "</table>\n",
       "</div>"
      ],
      "text/plain": [
       "                address category                name  rating  \\\n",
       "51       5100 Butler St  chinese     Zen Asian Diner     3.0   \n",
       "62       5500 Butler St  chinese           China Lin     3.5   \n",
       "78          472 44th St  chinese    Forever Rosemary     2.0   \n",
       "246     2013 Wharton St  chinese  Chan An Restaurant     3.0   \n",
       "368  213 S Highland Ave  chinese          Red Dragon     4.0   \n",
       "\n",
       "                     restId  review_count  \\\n",
       "51   afdthOntL8hfhomIFX-NWg          89.0   \n",
       "62   toc31C-Qy2smSq0A7Q8FgA          35.0   \n",
       "78   o2UAUbXSNRrqleXtSMLniA           4.0   \n",
       "246  gz87Wa7QUZ3gNlgE9NVPAA           8.0   \n",
       "368  IcrFc5IwCcKyGbVmgWjVjg          25.0   \n",
       "\n",
       "                                                   url  zipcode  \\\n",
       "51   https://www.yelp.com/biz/zen-asian-diner-pitts...    15201   \n",
       "62   https://www.yelp.com/biz/china-lin-pittsburgh?...    15201   \n",
       "78   https://www.yelp.com/biz/forever-rosemary-pitt...    15201   \n",
       "246  https://www.yelp.com/biz/chan-an-restaurant-pi...    15203   \n",
       "368  https://www.yelp.com/biz/red-dragon-pittsburgh...    15206   \n",
       "\n",
       "     percentage_chinese  \n",
       "51                 0.14  \n",
       "62                 0.14  \n",
       "78                 0.14  \n",
       "246                0.34  \n",
       "368                2.25  "
      ]
     },
     "execution_count": 121,
     "metadata": {},
     "output_type": "execute_result"
    }
   ],
   "source": [
    "chinese_rest= pd.merge(left = pitts_rest, right = chinesepop, how = \"left\", left_on = \"zipcode\", right_on = \"zipcode\")\n",
    "chinese_rest= chinese_rest.dropna()\n",
    "chinese_rest = chinese_rest[chinese_rest.category == \"chinese\"]\n",
    "chinese_rest.head()"
   ]
  },
  {
   "cell_type": "code",
   "execution_count": 122,
   "metadata": {},
   "outputs": [
    {
     "data": {
      "text/html": [
       "<div>\n",
       "<style scoped>\n",
       "    .dataframe tbody tr th:only-of-type {\n",
       "        vertical-align: middle;\n",
       "    }\n",
       "\n",
       "    .dataframe tbody tr th {\n",
       "        vertical-align: top;\n",
       "    }\n",
       "\n",
       "    .dataframe thead th {\n",
       "        text-align: right;\n",
       "    }\n",
       "</style>\n",
       "<table border=\"1\" class=\"dataframe\">\n",
       "  <thead>\n",
       "    <tr style=\"text-align: right;\">\n",
       "      <th></th>\n",
       "      <th>review_count</th>\n",
       "      <th>percentage_chinese</th>\n",
       "    </tr>\n",
       "    <tr>\n",
       "      <th>zipcode</th>\n",
       "      <th></th>\n",
       "      <th></th>\n",
       "    </tr>\n",
       "  </thead>\n",
       "  <tbody>\n",
       "    <tr>\n",
       "      <td>15201</td>\n",
       "      <td>42.666667</td>\n",
       "      <td>0.14</td>\n",
       "    </tr>\n",
       "    <tr>\n",
       "      <td>15203</td>\n",
       "      <td>8.000000</td>\n",
       "      <td>0.34</td>\n",
       "    </tr>\n",
       "    <tr>\n",
       "      <td>15206</td>\n",
       "      <td>24.000000</td>\n",
       "      <td>2.25</td>\n",
       "    </tr>\n",
       "    <tr>\n",
       "      <td>15210</td>\n",
       "      <td>14.000000</td>\n",
       "      <td>0.24</td>\n",
       "    </tr>\n",
       "    <tr>\n",
       "      <td>15211</td>\n",
       "      <td>86.000000</td>\n",
       "      <td>0.70</td>\n",
       "    </tr>\n",
       "    <tr>\n",
       "      <td>15212</td>\n",
       "      <td>21.000000</td>\n",
       "      <td>0.50</td>\n",
       "    </tr>\n",
       "    <tr>\n",
       "      <td>15213</td>\n",
       "      <td>99.875000</td>\n",
       "      <td>8.54</td>\n",
       "    </tr>\n",
       "    <tr>\n",
       "      <td>15216</td>\n",
       "      <td>40.000000</td>\n",
       "      <td>0.35</td>\n",
       "    </tr>\n",
       "    <tr>\n",
       "      <td>15217</td>\n",
       "      <td>184.714286</td>\n",
       "      <td>4.75</td>\n",
       "    </tr>\n",
       "    <tr>\n",
       "      <td>15219</td>\n",
       "      <td>70.333333</td>\n",
       "      <td>2.11</td>\n",
       "    </tr>\n",
       "    <tr>\n",
       "      <td>15222</td>\n",
       "      <td>14.666667</td>\n",
       "      <td>3.47</td>\n",
       "    </tr>\n",
       "    <tr>\n",
       "      <td>15224</td>\n",
       "      <td>91.500000</td>\n",
       "      <td>0.91</td>\n",
       "    </tr>\n",
       "    <tr>\n",
       "      <td>15226</td>\n",
       "      <td>19.000000</td>\n",
       "      <td>1.16</td>\n",
       "    </tr>\n",
       "  </tbody>\n",
       "</table>\n",
       "</div>"
      ],
      "text/plain": [
       "         review_count  percentage_chinese\n",
       "zipcode                                  \n",
       "15201       42.666667                0.14\n",
       "15203        8.000000                0.34\n",
       "15206       24.000000                2.25\n",
       "15210       14.000000                0.24\n",
       "15211       86.000000                0.70\n",
       "15212       21.000000                0.50\n",
       "15213       99.875000                8.54\n",
       "15216       40.000000                0.35\n",
       "15217      184.714286                4.75\n",
       "15219       70.333333                2.11\n",
       "15222       14.666667                3.47\n",
       "15224       91.500000                0.91\n",
       "15226       19.000000                1.16"
      ]
     },
     "execution_count": 122,
     "metadata": {},
     "output_type": "execute_result"
    }
   ],
   "source": [
    "# Compute the mean of review counts of Chinese restaurants for each neighborhood.\n",
    "chinese_rest = chinese_rest[['zipcode','review_count','percentage_chinese']]\n",
    "chinese_rest = chinese_rest.groupby(['zipcode']).mean()\n",
    "chinese_rest"
   ]
  },
  {
   "cell_type": "code",
   "execution_count": 110,
   "metadata": {},
   "outputs": [
    {
     "data": {
      "text/plain": [
       "array([[1.        , 0.53337634],\n",
       "       [0.53337634, 1.        ]])"
      ]
     },
     "execution_count": 110,
     "metadata": {},
     "output_type": "execute_result"
    }
   ],
   "source": [
    "# Compute the correlation between Chinese population percentage and average review count of Chinese restaurants.\n",
    "np.corrcoef(chinese_rest[\"percentage_chinese\"], chinese_rest[\"review_count\"])"
   ]
  },
  {
   "cell_type": "markdown",
   "metadata": {},
   "source": [
    "Since the correlation coefficient is about 0.5, we can say there is a moderate correlation between the average number of reviews of Chinese restaurants in a neighborhood and the percentage of Chinese population in that neighborhood. This can also be reflected in the slight upward trend in the scatterplot below."
   ]
  },
  {
   "cell_type": "code",
   "execution_count": 111,
   "metadata": {},
   "outputs": [
    {
     "data": {
      "image/png": "[encoded data removed]",
      "text/plain": [
       "<Figure size 432x288 with 1 Axes>"
      ]
     },
     "metadata": {},
     "output_type": "display_data"
    }
   ],
   "source": [
    "plt.scatter(chinese_rest[\"percentage_chinese\"],chinese_rest[\"review_count\"] )\n",
    "plt.xlabel(\"percentage of Chinese population\")\n",
    "plt.ylabel(\"number of reviews\")\n",
    "plt.show()"
   ]
  },
  {
   "cell_type": "markdown",
   "metadata": {},
   "source": [
    "#### 3.4 Average number of reviews of Traditional American restaurants vs <br>white population percentage of zip code area"
   ]
  },
  {
   "cell_type": "markdown",
   "metadata": {},
   "source": [
    "`whitepop`: [whitepop.csv](https://drive.google.com/open?id=1ZNhII6nny93nQ4kh6NfvIuwW2wf3JRHT): white population percentage, between 2013-17, by zip code. source: [Policymap](https://www.policymap.com/data/our-data-directory/#Census:%20Decennial%20Census%20and%20American%20Community%20Survey%20(ACS))\n",
    "\n",
    "`white_rest`: mapping each restaurant in `rest` with a white population percentage in `whitepop` using the zip code of the restaurant."
   ]
  },
  {
   "cell_type": "code",
   "execution_count": 112,
   "metadata": {},
   "outputs": [
    {
     "data": {
      "text/html": [
       "<div>\n",
       "<style scoped>\n",
       "    .dataframe tbody tr th:only-of-type {\n",
       "        vertical-align: middle;\n",
       "    }\n",
       "\n",
       "    .dataframe tbody tr th {\n",
       "        vertical-align: top;\n",
       "    }\n",
       "\n",
       "    .dataframe thead th {\n",
       "        text-align: right;\n",
       "    }\n",
       "</style>\n",
       "<table border=\"1\" class=\"dataframe\">\n",
       "  <thead>\n",
       "    <tr style=\"text-align: right;\">\n",
       "      <th></th>\n",
       "      <th>zipcode</th>\n",
       "      <th>percent_white</th>\n",
       "    </tr>\n",
       "  </thead>\n",
       "  <tbody>\n",
       "    <tr>\n",
       "      <td>0</td>\n",
       "      <td>15212</td>\n",
       "      <td>67.30</td>\n",
       "    </tr>\n",
       "    <tr>\n",
       "      <td>1</td>\n",
       "      <td>15207</td>\n",
       "      <td>79.50</td>\n",
       "    </tr>\n",
       "    <tr>\n",
       "      <td>2</td>\n",
       "      <td>15206</td>\n",
       "      <td>52.27</td>\n",
       "    </tr>\n",
       "    <tr>\n",
       "      <td>3</td>\n",
       "      <td>15210</td>\n",
       "      <td>61.65</td>\n",
       "    </tr>\n",
       "    <tr>\n",
       "      <td>4</td>\n",
       "      <td>15214</td>\n",
       "      <td>58.14</td>\n",
       "    </tr>\n",
       "  </tbody>\n",
       "</table>\n",
       "</div>"
      ],
      "text/plain": [
       "   zipcode  percent_white\n",
       "0    15212          67.30\n",
       "1    15207          79.50\n",
       "2    15206          52.27\n",
       "3    15210          61.65\n",
       "4    15214          58.14"
      ]
     },
     "execution_count": 112,
     "metadata": {},
     "output_type": "execute_result"
    }
   ],
   "source": [
    "whitepop = pd.read_csv(\"whitepop.csv\")\n",
    "whitepop['zipcode']=whitepop['zipcode'].astype(int)\n",
    "whitepop['percent_white']=whitepop['percent_white'].astype(float)\n",
    "whitepop.head()"
   ]
  },
  {
   "cell_type": "code",
   "execution_count": 114,
   "metadata": {},
   "outputs": [
    {
     "data": {
      "text/html": [
       "<div>\n",
       "<style scoped>\n",
       "    .dataframe tbody tr th:only-of-type {\n",
       "        vertical-align: middle;\n",
       "    }\n",
       "\n",
       "    .dataframe tbody tr th {\n",
       "        vertical-align: top;\n",
       "    }\n",
       "\n",
       "    .dataframe thead th {\n",
       "        text-align: right;\n",
       "    }\n",
       "</style>\n",
       "<table border=\"1\" class=\"dataframe\">\n",
       "  <thead>\n",
       "    <tr style=\"text-align: right;\">\n",
       "      <th></th>\n",
       "      <th>address</th>\n",
       "      <th>category</th>\n",
       "      <th>name</th>\n",
       "      <th>rating</th>\n",
       "      <th>restId</th>\n",
       "      <th>review_count</th>\n",
       "      <th>url</th>\n",
       "      <th>zipcode</th>\n",
       "      <th>percent_white</th>\n",
       "    </tr>\n",
       "  </thead>\n",
       "  <tbody>\n",
       "    <tr>\n",
       "      <td>42</td>\n",
       "      <td>4901 Hatfield St</td>\n",
       "      <td>tradamerican</td>\n",
       "      <td>Stinky's Bar &amp; Grill</td>\n",
       "      <td>4.0</td>\n",
       "      <td>TWk7hL6yCx5mYcs0Ys-usQ</td>\n",
       "      <td>66.0</td>\n",
       "      <td>https://www.yelp.com/biz/stinkys-bar-and-grill...</td>\n",
       "      <td>15201</td>\n",
       "      <td>74.79</td>\n",
       "    </tr>\n",
       "    <tr>\n",
       "      <td>127</td>\n",
       "      <td>1805 E Carson St</td>\n",
       "      <td>tradamerican</td>\n",
       "      <td>Fat Heads Saloon</td>\n",
       "      <td>4.0</td>\n",
       "      <td>LQFmktF43j2NPncKdNd9mg</td>\n",
       "      <td>787.0</td>\n",
       "      <td>https://www.yelp.com/biz/fat-heads-saloon-pitt...</td>\n",
       "      <td>15203</td>\n",
       "      <td>91.25</td>\n",
       "    </tr>\n",
       "    <tr>\n",
       "      <td>148</td>\n",
       "      <td>2316 E Carson St</td>\n",
       "      <td>tradamerican</td>\n",
       "      <td>The Pretzel Shop</td>\n",
       "      <td>4.5</td>\n",
       "      <td>aDHD7nASfqiQBB6YXy2aGA</td>\n",
       "      <td>109.0</td>\n",
       "      <td>https://www.yelp.com/biz/the-pretzel-shop-pitt...</td>\n",
       "      <td>15203</td>\n",
       "      <td>91.25</td>\n",
       "    </tr>\n",
       "    <tr>\n",
       "      <td>163</td>\n",
       "      <td>2339 E Carson St</td>\n",
       "      <td>tradamerican</td>\n",
       "      <td>Double Wide Grill</td>\n",
       "      <td>3.0</td>\n",
       "      <td>aY8xiGLpTjIkz6FAJbCy7A</td>\n",
       "      <td>494.0</td>\n",
       "      <td>https://www.yelp.com/biz/double-wide-grill-pit...</td>\n",
       "      <td>15203</td>\n",
       "      <td>91.25</td>\n",
       "    </tr>\n",
       "    <tr>\n",
       "      <td>173</td>\n",
       "      <td>1327 E Carson St</td>\n",
       "      <td>tradamerican</td>\n",
       "      <td>The Vault Taproom</td>\n",
       "      <td>4.5</td>\n",
       "      <td>u8pWT0002q-Y9GvrUwVFVw</td>\n",
       "      <td>54.0</td>\n",
       "      <td>https://www.yelp.com/biz/the-vault-taproom-pit...</td>\n",
       "      <td>15203</td>\n",
       "      <td>91.25</td>\n",
       "    </tr>\n",
       "  </tbody>\n",
       "</table>\n",
       "</div>"
      ],
      "text/plain": [
       "              address      category                  name  rating  \\\n",
       "42   4901 Hatfield St  tradamerican  Stinky's Bar & Grill     4.0   \n",
       "127  1805 E Carson St  tradamerican      Fat Heads Saloon     4.0   \n",
       "148  2316 E Carson St  tradamerican      The Pretzel Shop     4.5   \n",
       "163  2339 E Carson St  tradamerican     Double Wide Grill     3.0   \n",
       "173  1327 E Carson St  tradamerican     The Vault Taproom     4.5   \n",
       "\n",
       "                     restId  review_count  \\\n",
       "42   TWk7hL6yCx5mYcs0Ys-usQ          66.0   \n",
       "127  LQFmktF43j2NPncKdNd9mg         787.0   \n",
       "148  aDHD7nASfqiQBB6YXy2aGA         109.0   \n",
       "163  aY8xiGLpTjIkz6FAJbCy7A         494.0   \n",
       "173  u8pWT0002q-Y9GvrUwVFVw          54.0   \n",
       "\n",
       "                                                   url  zipcode  percent_white  \n",
       "42   https://www.yelp.com/biz/stinkys-bar-and-grill...    15201          74.79  \n",
       "127  https://www.yelp.com/biz/fat-heads-saloon-pitt...    15203          91.25  \n",
       "148  https://www.yelp.com/biz/the-pretzel-shop-pitt...    15203          91.25  \n",
       "163  https://www.yelp.com/biz/double-wide-grill-pit...    15203          91.25  \n",
       "173  https://www.yelp.com/biz/the-vault-taproom-pit...    15203          91.25  "
      ]
     },
     "execution_count": 114,
     "metadata": {},
     "output_type": "execute_result"
    }
   ],
   "source": [
    "white_rest= pd.merge(left = pitts_rest, right = whitepop, how = \"left\", left_on = \"zipcode\", right_on = \"zipcode\")\n",
    "white_rest= white_rest.dropna()\n",
    "white_rest = white_rest[white_rest.category == \"tradamerican\"]\n",
    "white_rest.head()"
   ]
  },
  {
   "cell_type": "code",
   "execution_count": 115,
   "metadata": {},
   "outputs": [
    {
     "data": {
      "text/html": [
       "<div>\n",
       "<style scoped>\n",
       "    .dataframe tbody tr th:only-of-type {\n",
       "        vertical-align: middle;\n",
       "    }\n",
       "\n",
       "    .dataframe tbody tr th {\n",
       "        vertical-align: top;\n",
       "    }\n",
       "\n",
       "    .dataframe thead th {\n",
       "        text-align: right;\n",
       "    }\n",
       "</style>\n",
       "<table border=\"1\" class=\"dataframe\">\n",
       "  <thead>\n",
       "    <tr style=\"text-align: right;\">\n",
       "      <th></th>\n",
       "      <th>review_count</th>\n",
       "      <th>percent_white</th>\n",
       "    </tr>\n",
       "    <tr>\n",
       "      <th>zipcode</th>\n",
       "      <th></th>\n",
       "      <th></th>\n",
       "    </tr>\n",
       "  </thead>\n",
       "  <tbody>\n",
       "    <tr>\n",
       "      <td>15201</td>\n",
       "      <td>66.000000</td>\n",
       "      <td>74.79</td>\n",
       "    </tr>\n",
       "    <tr>\n",
       "      <td>15203</td>\n",
       "      <td>251.714286</td>\n",
       "      <td>91.25</td>\n",
       "    </tr>\n",
       "    <tr>\n",
       "      <td>15206</td>\n",
       "      <td>15.000000</td>\n",
       "      <td>52.27</td>\n",
       "    </tr>\n",
       "    <tr>\n",
       "      <td>15207</td>\n",
       "      <td>216.000000</td>\n",
       "      <td>79.50</td>\n",
       "    </tr>\n",
       "    <tr>\n",
       "      <td>15208</td>\n",
       "      <td>2.000000</td>\n",
       "      <td>32.52</td>\n",
       "    </tr>\n",
       "    <tr>\n",
       "      <td>15210</td>\n",
       "      <td>38.000000</td>\n",
       "      <td>61.65</td>\n",
       "    </tr>\n",
       "    <tr>\n",
       "      <td>15211</td>\n",
       "      <td>219.000000</td>\n",
       "      <td>87.55</td>\n",
       "    </tr>\n",
       "    <tr>\n",
       "      <td>15212</td>\n",
       "      <td>141.000000</td>\n",
       "      <td>67.30</td>\n",
       "    </tr>\n",
       "    <tr>\n",
       "      <td>15213</td>\n",
       "      <td>192.000000</td>\n",
       "      <td>67.93</td>\n",
       "    </tr>\n",
       "    <tr>\n",
       "      <td>15216</td>\n",
       "      <td>121.500000</td>\n",
       "      <td>88.93</td>\n",
       "    </tr>\n",
       "    <tr>\n",
       "      <td>15219</td>\n",
       "      <td>41.666667</td>\n",
       "      <td>39.35</td>\n",
       "    </tr>\n",
       "    <tr>\n",
       "      <td>15222</td>\n",
       "      <td>181.000000</td>\n",
       "      <td>81.04</td>\n",
       "    </tr>\n",
       "    <tr>\n",
       "      <td>15224</td>\n",
       "      <td>64.666667</td>\n",
       "      <td>69.96</td>\n",
       "    </tr>\n",
       "    <tr>\n",
       "      <td>15232</td>\n",
       "      <td>95.666667</td>\n",
       "      <td>76.81</td>\n",
       "    </tr>\n",
       "    <tr>\n",
       "      <td>15233</td>\n",
       "      <td>130.000000</td>\n",
       "      <td>44.66</td>\n",
       "    </tr>\n",
       "  </tbody>\n",
       "</table>\n",
       "</div>"
      ],
      "text/plain": [
       "         review_count  percent_white\n",
       "zipcode                             \n",
       "15201       66.000000          74.79\n",
       "15203      251.714286          91.25\n",
       "15206       15.000000          52.27\n",
       "15207      216.000000          79.50\n",
       "15208        2.000000          32.52\n",
       "15210       38.000000          61.65\n",
       "15211      219.000000          87.55\n",
       "15212      141.000000          67.30\n",
       "15213      192.000000          67.93\n",
       "15216      121.500000          88.93\n",
       "15219       41.666667          39.35\n",
       "15222      181.000000          81.04\n",
       "15224       64.666667          69.96\n",
       "15232       95.666667          76.81\n",
       "15233      130.000000          44.66"
      ]
     },
     "execution_count": 115,
     "metadata": {},
     "output_type": "execute_result"
    }
   ],
   "source": [
    "# Compute the mean of review counts of traditional American restaurants for each neighborhood.\n",
    "white_rest = white_rest[['zipcode','review_count','percent_white']]\n",
    "white_rest = white_rest.groupby(['zipcode']).mean()\n",
    "white_rest"
   ]
  },
  {
   "cell_type": "code",
   "execution_count": 116,
   "metadata": {},
   "outputs": [
    {
     "data": {
      "text/plain": [
       "array([[1.        , 0.70824471],\n",
       "       [0.70824471, 1.        ]])"
      ]
     },
     "execution_count": 116,
     "metadata": {},
     "output_type": "execute_result"
    }
   ],
   "source": [
    "# Compute the correlation between white population percentage and average review count of traditional American restaurants.\n",
    "np.corrcoef(white_rest[\"percent_white\"], white_rest[\"review_count\"])"
   ]
  },
  {
   "cell_type": "markdown",
   "metadata": {},
   "source": [
    "Since the correlation coefficient is about 0.71, we can say there is a strong correlation between the average number of reviews of traditional American restaurants in a neighborhood and the percentage of white population in that neighborhood. This can also be reflected in the obvious upward trend in the scatterplot below."
   ]
  },
  {
   "cell_type": "code",
   "execution_count": 117,
   "metadata": {},
   "outputs": [
    {
     "data": {
      "image/png": "[encoded data removed]",
      "text/plain": [
       "<Figure size 432x288 with 1 Axes>"
      ]
     },
     "metadata": {},
     "output_type": "display_data"
    }
   ],
   "source": [
    "plt.scatter(white_rest[\"percent_white\"],white_rest[\"review_count\"])\n",
    "plt.xlabel(\"percentage of White population\")\n",
    "plt.ylabel(\"number of reviews\")\n",
    "plt.show()"
   ]
  },
  {
   "cell_type": "markdown",
   "metadata": {},
   "source": [
    "## Recommendations\n",
    "Business Owner:<br>\n",
    "1. The frequently mentioned items in the word cloud graphs can be considered as popular dishes for different cuisines. Restaurant owners can refer to a specific cuisine to decide what to offer in their restaurant.\n",
    "2. Traditional American restuarants should choose neighborhoods with high White population percentage\n",
    "3. Chinese restaurants should choose the neighborhood with high Chinese population percentage.\n",
    "\n",
    "Yelp user:\n",
    "1. The Yelp user can realize that the ratings for different cuisine categories may be different and may not compare the absolute values in the direct way. \n",
    "2. It would be great if the user can read more review contents to make the decision rather than just the rating stars. Other people may not have the same rating criteria with you, but the review content tells the truth!\n"
   ]
  },
  {
   "cell_type": "markdown",
   "metadata": {},
   "source": [
    "## Future Directions\n",
    "1. This projet only gather the data including six types of restaurants from Pittsburgh area. In the future, we could test our hypothesis on more data from other parts of the U.S and incorporate other types of restaurants.\n",
    "2. Number of reviews (cumulative) may be affected by the age of the restaurant. Hence, we need to find a better variable to capture the popularity of the restaurants. "
   ]
  },
  {
   "cell_type": "markdown",
   "metadata": {},
   "source": [
    "## References"
   ]
  },
  {
   "cell_type": "markdown",
   "metadata": {},
   "source": [
    "Yelp Fusion API: https://www.yelp.com/fusion<br>\n",
    "fake-useragent 0.1.11: https://pypi.org/project/fake-useragent/<br>\n",
    "TextBlob: https://www.datasciencelearner.com/sentiment-analysis-python-library-textblob/ <br>\n",
    "TextBlob: https://textblob.readthedocs.io/en/dev/index.html#<br>\n",
    "TextBlob Naive Bayes Analyzer source code: https://textblob.readthedocs.io/en/dev/_modules/textblob/en/sentiments.html<br>\n",
    "Hypothesis Testing: https://stats.stackexchange.com/questions/93540/testing-equality-of-coefficients-from-two-different-regressions<br>\n",
    "Yelp user: https://www.quora.com/Is-Yelp-big-in-any-other-countries"
   ]
  }
 ],
 "metadata": {
  "kernelspec": {
   "display_name": "Python 3",
   "language": "python",
   "name": "python3"
  },
  "language_info": {
   "codemirror_mode": {
    "name": "ipython",
    "version": 3
   },
   "file_extension": ".py",
   "mimetype": "text/x-python",
   "name": "python",
   "nbconvert_exporter": "python",
   "pygments_lexer": "ipython3",
   "version": "3.7.4"
  }
 },
 "nbformat": 4,
 "nbformat_minor": 2
}
